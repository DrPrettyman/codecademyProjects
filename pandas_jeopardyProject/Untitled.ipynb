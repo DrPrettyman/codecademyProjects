{
 "cells": [
  {
   "cell_type": "markdown",
   "id": "6dee00a6",
   "metadata": {},
   "source": [
    "# This Is Jeopardy!\n",
    "\n",
    "### Project Goals\n",
    "\n",
    "You will work to write several functions that investigate a dataset of Jeopardy! questions and answers. Filter the dataset for topics that you’re interested in, compute the average difficulty of those questions, and train to become the next Jeopardy champion!"
   ]
  },
  {
   "cell_type": "code",
   "execution_count": 3,
   "id": "662cad1f",
   "metadata": {},
   "outputs": [],
   "source": [
    "import pandas as pd\n",
    "pd.set_option('display.max_colwidth', None)"
   ]
  },
  {
   "cell_type": "code",
   "execution_count": 31,
   "id": "56c9c61a",
   "metadata": {},
   "outputs": [],
   "source": [
    "j = pd.read_csv('jeopardy.csv')"
   ]
  },
  {
   "cell_type": "code",
   "execution_count": 32,
   "id": "547d7105",
   "metadata": {},
   "outputs": [
    {
     "name": "stdout",
     "output_type": "stream",
     "text": [
      "Index(['Show Number', ' Air Date', ' Round', ' Category', ' Value',\n",
      "       ' Question', ' Answer'],\n",
      "      dtype='object')\n"
     ]
    }
   ],
   "source": [
    "print(j.columns)"
   ]
  },
  {
   "cell_type": "markdown",
   "id": "c7754064",
   "metadata": {},
   "source": [
    "Note that in order to make this project as “real-world” as possible, we haven’t modified the data at all — we’re giving it to you exactly how we found it. As a result, this data isn’t as “clean” as the datasets you normally find on Codecademy. More specifically, there’s something odd about the column names. After you figure out the problem with the column names, you may want to rename them to make your life easier the rest of the project."
   ]
  },
  {
   "cell_type": "code",
   "execution_count": 34,
   "id": "7b5b02a1",
   "metadata": {
    "scrolled": true
   },
   "outputs": [
    {
     "name": "stdout",
     "output_type": "stream",
     "text": [
      "Index(['Show Number', 'Air Date', 'Round', 'Category', 'Value', 'Question',\n",
      "       'Answer'],\n",
      "      dtype='object')\n"
     ]
    }
   ],
   "source": [
    "j.rename(lambda s: s.strip(), axis='columns', inplace=True)\n",
    "print(j.columns)"
   ]
  },
  {
   "cell_type": "markdown",
   "id": "8f161c10",
   "metadata": {},
   "source": [
    "Write a function that filters the dataset for questions that contains all of the words in a list of words. For example, when the list [\"King\", \"England\"] was passed to our function, the function returned a DataFrame of 152 rows. Every row had the strings \"King\" and \"England\" somewhere in its \" Question\".\n",
    "\n",
    "Note that in this example, we found 152 rows by filtering the entire dataset. You can download the entire dataset at the start or end of this project. The dataset used on Codecademy is only a fraction of the dataset so you won’t find as many rows.\n",
    "\n",
    "Test your function by printing out the column containing the question of each row of the dataset."
   ]
  }
 ],
 "metadata": {
  "kernelspec": {
   "display_name": "Python 3",
   "language": "python",
   "name": "python3"
  },
  "language_info": {
   "codemirror_mode": {
    "name": "ipython",
    "version": 3
   },
   "file_extension": ".py",
   "mimetype": "text/x-python",
   "name": "python",
   "nbconvert_exporter": "python",
   "pygments_lexer": "ipython3",
   "version": "3.8.8"
  }
 },
 "nbformat": 4,
 "nbformat_minor": 5
}
