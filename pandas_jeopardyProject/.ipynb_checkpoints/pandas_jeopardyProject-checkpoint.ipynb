{
 "cells": [
  {
   "cell_type": "markdown",
   "id": "6dee00a6",
   "metadata": {},
   "source": [
    "# This Is Jeopardy!\n",
    "\n",
    "### Project Goals\n",
    "\n",
    "You will work to write several functions that investigate a dataset of Jeopardy! questions and answers. Filter the dataset for topics that you’re interested in, compute the average difficulty of those questions, and train to become the next Jeopardy champion!"
   ]
  },
  {
   "cell_type": "code",
   "execution_count": 62,
   "id": "662cad1f",
   "metadata": {},
   "outputs": [],
   "source": [
    "import pandas as pd\n",
    "pd.set_option('display.max_colwidth', None)"
   ]
  },
  {
   "cell_type": "code",
   "execution_count": 77,
   "id": "56c9c61a",
   "metadata": {},
   "outputs": [],
   "source": [
    "j = pd.read_csv('jeopardy.csv')"
   ]
  },
  {
   "cell_type": "code",
   "execution_count": 79,
   "id": "547d7105",
   "metadata": {},
   "outputs": [
    {
     "name": "stdout",
     "output_type": "stream",
     "text": [
      "Index(['Show Number', ' Air Date', ' Round', ' Category', ' Value',\n",
      "       ' Question', ' Answer'],\n",
      "      dtype='object')\n"
     ]
    }
   ],
   "source": [
    "print(j.columns)"
   ]
  },
  {
   "cell_type": "markdown",
   "id": "c7754064",
   "metadata": {},
   "source": [
    "Note that in order to make this project as “real-world” as possible, we haven’t modified the data at all — we’re giving it to you exactly how we found it. As a result, this data isn’t as “clean” as the datasets you normally find on Codecademy. More specifically, there’s something odd about the column names. After you figure out the problem with the column names, you may want to rename them to make your life easier the rest of the project."
   ]
  },
  {
   "cell_type": "code",
   "execution_count": 80,
   "id": "7b5b02a1",
   "metadata": {
    "scrolled": true
   },
   "outputs": [
    {
     "name": "stdout",
     "output_type": "stream",
     "text": [
      "Index(['Show Number', 'Air Date', 'Round', 'Category', 'Value', 'Question',\n",
      "       'Answer'],\n",
      "      dtype='object')\n"
     ]
    }
   ],
   "source": [
    "j.rename(lambda s: s.strip(), axis='columns', inplace=True)\n",
    "print(j.columns)"
   ]
  },
  {
   "cell_type": "markdown",
   "id": "8f161c10",
   "metadata": {},
   "source": [
    "Write a function that filters the dataset for questions that contains all of the words in a list of words. For example, when the list [\"King\", \"England\"] was passed to our function, the function returned a DataFrame of 152 rows. Every row had the strings \"King\" and \"England\" somewhere in its \" Question\".\n",
    "\n",
    "Note that in this example, we found 152 rows by filtering the entire dataset. You can download the entire dataset at the start or end of this project. The dataset used on Codecademy is only a fraction of the dataset so you won’t find as many rows.\n",
    "\n",
    "Test your function by printing out the column containing the question of each row of the dataset."
   ]
  },
  {
   "cell_type": "code",
   "execution_count": 81,
   "id": "3e882906",
   "metadata": {},
   "outputs": [],
   "source": [
    "def question_search(df, word_list):\n",
    "    indices = []\n",
    "    for i in range(len(df)):\n",
    "        q = df.iloc[i].Question.lower()\n",
    "        if all(word.lower() in q for word in word_list):\n",
    "            indices.append(i)\n",
    "    return df.iloc[indices]\n",
    "        "
   ]
  },
  {
   "cell_type": "code",
   "execution_count": 82,
   "id": "e757bd8c",
   "metadata": {},
   "outputs": [],
   "source": [
    "filtered_data = question_search(j, ['King', 'England'])"
   ]
  },
  {
   "cell_type": "code",
   "execution_count": 83,
   "id": "23785e5b",
   "metadata": {},
   "outputs": [
    {
     "data": {
      "text/html": [
       "<div>\n",
       "<style scoped>\n",
       "    .dataframe tbody tr th:only-of-type {\n",
       "        vertical-align: middle;\n",
       "    }\n",
       "\n",
       "    .dataframe tbody tr th {\n",
       "        vertical-align: top;\n",
       "    }\n",
       "\n",
       "    .dataframe thead th {\n",
       "        text-align: right;\n",
       "    }\n",
       "</style>\n",
       "<table border=\"1\" class=\"dataframe\">\n",
       "  <thead>\n",
       "    <tr style=\"text-align: right;\">\n",
       "      <th></th>\n",
       "      <th>Show Number</th>\n",
       "      <th>Air Date</th>\n",
       "      <th>Round</th>\n",
       "      <th>Category</th>\n",
       "      <th>Value</th>\n",
       "      <th>Question</th>\n",
       "      <th>Answer</th>\n",
       "    </tr>\n",
       "  </thead>\n",
       "  <tbody>\n",
       "    <tr>\n",
       "      <th>4953</th>\n",
       "      <td>3003</td>\n",
       "      <td>1997-09-24</td>\n",
       "      <td>Double Jeopardy!</td>\n",
       "      <td>\"PH\"UN WORDS</td>\n",
       "      <td>$200</td>\n",
       "      <td>Both England's King George V &amp; FDR put their stamp of approval on this \"King of Hobbies\"</td>\n",
       "      <td>Philately (stamp collecting)</td>\n",
       "    </tr>\n",
       "    <tr>\n",
       "      <th>6337</th>\n",
       "      <td>3517</td>\n",
       "      <td>1999-12-14</td>\n",
       "      <td>Double Jeopardy!</td>\n",
       "      <td>Y1K</td>\n",
       "      <td>$800</td>\n",
       "      <td>In retaliation for Viking raids, this \"Unready\" king of England attacks Norse areas of the Isle of Man</td>\n",
       "      <td>Ethelred</td>\n",
       "    </tr>\n",
       "    <tr>\n",
       "      <th>9191</th>\n",
       "      <td>3907</td>\n",
       "      <td>2001-09-04</td>\n",
       "      <td>Double Jeopardy!</td>\n",
       "      <td>WON THE BATTLE</td>\n",
       "      <td>$800</td>\n",
       "      <td>This king of England beat the odds to trounce the French in the 1415 Battle of Agincourt</td>\n",
       "      <td>Henry V</td>\n",
       "    </tr>\n",
       "    <tr>\n",
       "      <th>11710</th>\n",
       "      <td>2903</td>\n",
       "      <td>1997-03-26</td>\n",
       "      <td>Double Jeopardy!</td>\n",
       "      <td>BRITISH MONARCHS</td>\n",
       "      <td>$600</td>\n",
       "      <td>This Scotsman, the first Stuart king of England, was called \"The Wisest Fool in Christendom\"</td>\n",
       "      <td>James I</td>\n",
       "    </tr>\n",
       "    <tr>\n",
       "      <th>13454</th>\n",
       "      <td>4726</td>\n",
       "      <td>2005-03-07</td>\n",
       "      <td>Jeopardy!</td>\n",
       "      <td>A NUMBER FROM 1 TO 10</td>\n",
       "      <td>$1000</td>\n",
       "      <td>It's the number that followed the last king of England named William</td>\n",
       "      <td>4</td>\n",
       "    </tr>\n",
       "  </tbody>\n",
       "</table>\n",
       "</div>"
      ],
      "text/plain": [
       "       Show Number    Air Date             Round               Category  \\\n",
       "4953          3003  1997-09-24  Double Jeopardy!           \"PH\"UN WORDS   \n",
       "6337          3517  1999-12-14  Double Jeopardy!                    Y1K   \n",
       "9191          3907  2001-09-04  Double Jeopardy!         WON THE BATTLE   \n",
       "11710         2903  1997-03-26  Double Jeopardy!       BRITISH MONARCHS   \n",
       "13454         4726  2005-03-07         Jeopardy!  A NUMBER FROM 1 TO 10   \n",
       "\n",
       "       Value  \\\n",
       "4953    $200   \n",
       "6337    $800   \n",
       "9191    $800   \n",
       "11710   $600   \n",
       "13454  $1000   \n",
       "\n",
       "                                                                                                     Question  \\\n",
       "4953                 Both England's King George V & FDR put their stamp of approval on this \"King of Hobbies\"   \n",
       "6337   In retaliation for Viking raids, this \"Unready\" king of England attacks Norse areas of the Isle of Man   \n",
       "9191                 This king of England beat the odds to trounce the French in the 1415 Battle of Agincourt   \n",
       "11710            This Scotsman, the first Stuart king of England, was called \"The Wisest Fool in Christendom\"   \n",
       "13454                                    It's the number that followed the last king of England named William   \n",
       "\n",
       "                             Answer  \n",
       "4953   Philately (stamp collecting)  \n",
       "6337                       Ethelred  \n",
       "9191                        Henry V  \n",
       "11710                       James I  \n",
       "13454                             4  "
      ]
     },
     "execution_count": 83,
     "metadata": {},
     "output_type": "execute_result"
    }
   ],
   "source": [
    "filtered_data.head()"
   ]
  },
  {
   "cell_type": "markdown",
   "id": "672d2d37",
   "metadata": {},
   "source": [
    "Test your original function with a few different sets of words to try to find some ways your function breaks. Edit your function so it is more robust.\n",
    "\n",
    "For example, think about capitalization. We probably want to find questions that contain the word \"King\" or \"king\".\n",
    "\n",
    "You may also want to check to make sure you don’t find rows that contain substrings of your given words. For example, our function found a question that didn’t contain the word \"king\", however it did contain the word \"viking\" — it found the \"king\" inside \"viking\". Note that this also comes with some drawbacks — you would no longer find questions that contained words like \"England's\"."
   ]
  },
  {
   "cell_type": "markdown",
   "id": "7e3e8ced",
   "metadata": {},
   "source": [
    "We may want to eventually compute aggregate statistics, like .mean() on the \" Value\" column. But right now, the values in that column are strings. Convert the \" Value\" column to floats. If you’d like to, you can create a new column with the float values.\n",
    "\n",
    "Now that you can filter the dataset of question, use your new column that contains the float values of each question to find the “difficulty” of certain topics. For example, what is the average value of questions that contain the word \"King\"?\n",
    "\n",
    "Make sure to use the dataset that contains the float values as the dataset you use in your filtering function."
   ]
  },
  {
   "cell_type": "code",
   "execution_count": 84,
   "id": "686b9598",
   "metadata": {},
   "outputs": [
    {
     "data": {
      "text/plain": [
       "200.0"
      ]
     },
     "execution_count": 84,
     "metadata": {},
     "output_type": "execute_result"
    }
   ],
   "source": [
    "float(j.Value[0].strip('$'))"
   ]
  },
  {
   "cell_type": "code",
   "execution_count": 86,
   "id": "312cd9fa",
   "metadata": {},
   "outputs": [
    {
     "name": "stdout",
     "output_type": "stream",
     "text": [
      "0          200.0\n",
      "1          200.0\n",
      "2          200.0\n",
      "3          200.0\n",
      "4          200.0\n",
      "           ...  \n",
      "216925    2000.0\n",
      "216926    2000.0\n",
      "216927    2000.0\n",
      "216928    2000.0\n",
      "216929       0.0\n",
      "Name: Value, Length: 216930, dtype: float64\n"
     ]
    },
    {
     "name": "stderr",
     "output_type": "stream",
     "text": [
      "<ipython-input-86-9b2a1e0ed4fb>:13: UserWarning: Pandas doesn't allow columns to be created via a new attribute name - see https://pandas.pydata.org/pandas-docs/stable/indexing.html#attribute-access\n",
      "  j.Float_Value = j.Value.apply(\n"
     ]
    }
   ],
   "source": [
    "# j.Value.apply(lambda v: float(v.strip('$')))\n",
    "# ValueError: could not convert string to float: '2,000'\n",
    "\n",
    "# so try replacing ','\n",
    "# j.Value.apply(lambda v: float(v.strip('$').replace(',','')))\n",
    "# ValueError: could not convert string to float: 'None'\n",
    "\n",
    "# So we try getting rid of 'None' strings.\n",
    "# j.Float_Value = j.Value.apply(lambda v: v.replace('None','$0'))\n",
    "# j.Float_Value = j.Float_Value.apply(lambda v: float(v.strip('$').replace(',','')))\n",
    "\n",
    "# or in one go:\n",
    "j.Float_Value = j.Value.apply(\n",
    "    lambda v: 0.0 if v=='None' else\n",
    "    float(v.strip('$').replace(',',''))\n",
    ")\n",
    "\n",
    "print(j.Float_Value)"
   ]
  },
  {
   "cell_type": "markdown",
   "id": "f76e25a5",
   "metadata": {},
   "source": [
    "Write a function that returns the count of the unique answers to all of the questions in a dataset. For example, after filtering the entire dataset to only questions containing the word \"King\", we could then find all of the unique answers to those questions. The answer “Henry VIII” appeared 3 times and was the most common answer."
   ]
  },
  {
   "cell_type": "code",
   "execution_count": 94,
   "id": "a7b15bfc",
   "metadata": {},
   "outputs": [],
   "source": [
    "def answer_count(df):\n",
    "    return df['Answer'].value_counts()"
   ]
  },
  {
   "cell_type": "code",
   "execution_count": 95,
   "id": "e5f3e11a",
   "metadata": {},
   "outputs": [
    {
     "name": "stdout",
     "output_type": "stream",
     "text": [
      "William the Conqueror      6\n",
      "Edward                     3\n",
      "Wessex                     3\n",
      "Oliver Cromwell            3\n",
      "Richard the Lionhearted    3\n",
      "                          ..\n",
      "11th century               1\n",
      "Henry IV                   1\n",
      "his duty                   1\n",
      "The Cider House Rules      1\n",
      "George (I - IV)            1\n",
      "Name: Answer, Length: 114, dtype: int64\n"
     ]
    }
   ],
   "source": [
    "filtered_data = question_search(j, ['King', 'England'])\n",
    "unique_answer_count = answer_count(filtered_data)\n",
    "print(unique_answer_count)"
   ]
  },
  {
   "cell_type": "code",
   "execution_count": 96,
   "id": "1edf5fc4",
   "metadata": {},
   "outputs": [
    {
     "name": "stdout",
     "output_type": "stream",
     "text": [
      "3\n"
     ]
    }
   ],
   "source": [
    "print(unique_answer_count['Henry VIII'])\n",
    "\n",
    "# We find that 'William the Conqueror' is the most \n",
    "# common answer with 6, while Henry VIII appears only \n",
    "# three times"
   ]
  },
  {
   "cell_type": "markdown",
   "id": "82e3d02d",
   "metadata": {},
   "source": [
    "Explore from here! This is an incredibly rich dataset, and there are so many interesting things to discover. There are a few columns that we haven’t even started looking at yet. Here are some ideas on ways to continue working with this data:\n",
    "\n",
    "Investigate the ways in which questions change over time by filtering by the date. How many questions from the 90s use the word \"Computer\" compared to questions from the 2000s?\n",
    "Is there a connection between the round and the category? Are you more likely to find certain categories, like \"Literature\" in Single Jeopardy or Double Jeopardy?\n",
    "Build a system to quiz yourself. Grab random questions, and use the input function to get a response from the user. Check to see if that response was right or wrong. Note that you can’t do this on the Codecademy platform — to do this, download the data, and write and run the code on your own computer!"
   ]
  },
  {
   "cell_type": "code",
   "execution_count": null,
   "id": "701570f4",
   "metadata": {},
   "outputs": [],
   "source": []
  },
  {
   "cell_type": "code",
   "execution_count": null,
   "id": "3b0d883b",
   "metadata": {},
   "outputs": [],
   "source": []
  },
  {
   "cell_type": "code",
   "execution_count": null,
   "id": "981f2b29",
   "metadata": {},
   "outputs": [],
   "source": []
  },
  {
   "cell_type": "code",
   "execution_count": null,
   "id": "091f1974",
   "metadata": {},
   "outputs": [],
   "source": []
  },
  {
   "cell_type": "code",
   "execution_count": null,
   "id": "0e680dd8",
   "metadata": {},
   "outputs": [],
   "source": []
  }
 ],
 "metadata": {
  "kernelspec": {
   "display_name": "Python 3",
   "language": "python",
   "name": "python3"
  },
  "language_info": {
   "codemirror_mode": {
    "name": "ipython",
    "version": 3
   },
   "file_extension": ".py",
   "mimetype": "text/x-python",
   "name": "python",
   "nbconvert_exporter": "python",
   "pygments_lexer": "ipython3",
   "version": "3.8.8"
  }
 },
 "nbformat": 4,
 "nbformat_minor": 5
}
