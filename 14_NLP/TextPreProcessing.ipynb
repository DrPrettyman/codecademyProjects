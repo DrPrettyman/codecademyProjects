{
 "cells": [
  {
   "cell_type": "markdown",
   "id": "5aeb0819",
   "metadata": {},
   "source": [
    "# Tokenization"
   ]
  },
  {
   "cell_type": "code",
   "execution_count": 3,
   "id": "27e7b38c",
   "metadata": {},
   "outputs": [
    {
     "name": "stdout",
     "output_type": "stream",
     "text": [
      "showing info https://raw.githubusercontent.com/nltk/nltk_data/gh-pages/index.xml\n"
     ]
    },
    {
     "data": {
      "text/plain": [
       "True"
      ]
     },
     "execution_count": 3,
     "metadata": {},
     "output_type": "execute_result"
    }
   ],
   "source": [
    "import nltk\n",
    "nltk.download()"
   ]
  },
  {
   "cell_type": "code",
   "execution_count": 4,
   "id": "68ece63b",
   "metadata": {},
   "outputs": [],
   "source": [
    "from nltk.tokenize import word_tokenize, sent_tokenize\n",
    "from nltk.corpus import stopwords "
   ]
  },
  {
   "cell_type": "code",
   "execution_count": 5,
   "id": "1edf4105",
   "metadata": {},
   "outputs": [
    {
     "name": "stdout",
     "output_type": "stream",
     "text": [
      "Word Tokenization:\n",
      "['An', 'electrocardiogram', 'is', 'used', 'to', 'record', 'the', 'electrical', 'conduction', 'through', 'a', 'person', \"'s\", 'heart', '.', 'The', 'readings', 'can', 'be', 'used', 'to', 'diagnose', 'cardiac', 'arrhythmias', '.']\n",
      "Sentence Tokenization:\n",
      "[\"An electrocardiogram is used to record the electrical \\n              conduction through a person's heart.\", 'The readings can \\n              be used to diagnose cardiac arrhythmias.']\n"
     ]
    }
   ],
   "source": [
    "ecg_text = \"\"\"An electrocardiogram is used to record the electrical \n",
    "              conduction through a person\\'s heart. The readings can \n",
    "              be used to diagnose cardiac arrhythmias.\"\"\"\n",
    "\n",
    "tokenized_by_word = word_tokenize(ecg_text)\n",
    "tokenized_by_sentence = sent_tokenize(ecg_text)\n",
    "\n",
    "print('Word Tokenization:')\n",
    "print(tokenized_by_word)\n",
    "\n",
    "print('Sentence Tokenization:')\n",
    "print(tokenized_by_sentence)"
   ]
  },
  {
   "cell_type": "markdown",
   "id": "73beccb0",
   "metadata": {},
   "source": [
    "# Normalization\n",
    "\n"
   ]
  },
  {
   "cell_type": "code",
   "execution_count": 6,
   "id": "ee3b8652",
   "metadata": {},
   "outputs": [
    {
     "name": "stdout",
     "output_type": "stream",
     "text": [
      "Lowercased brands: salvation army, ymca, boys & girls club of america\n",
      "Uppercased brands: SALVATION ARMY, YMCA, BOYS & GIRLS CLUB OF AMERICA\n"
     ]
    }
   ],
   "source": [
    "brands = 'Salvation Army, YMCA, Boys & Girls Club of America'\n",
    "\n",
    "brands_lower = brands.lower()\n",
    "brands_upper = brands.upper()\n",
    "\n",
    "print(f'Lowercased brands: {brands_lower}')\n",
    "print(f'Uppercased brands: {brands_upper}')"
   ]
  },
  {
   "cell_type": "markdown",
   "id": "0118e2e3",
   "metadata": {},
   "source": [
    "# Stopword Removal"
   ]
  },
  {
   "cell_type": "code",
   "execution_count": 7,
   "id": "9fe38644",
   "metadata": {
    "scrolled": true
   },
   "outputs": [
    {
     "name": "stdout",
     "output_type": "stream",
     "text": [
      "Words Tokenized: ['A', 'YouGov', 'study', 'found', 'that', 'American', \"'s\", 'like', 'Italian', 'food', 'more', 'than', 'any', 'other', 'country', \"'s\", 'cuisine', '.']\n",
      "\n",
      "\n",
      "Text without Stops: ['A', 'YouGov', 'study', 'found', 'American', \"'s\", 'like', 'Italian', 'food', 'country', \"'s\", 'cuisine', '.']\n"
     ]
    }
   ],
   "source": [
    "# Save all English stopwords to the variable ``stop_words``\n",
    "stop_words = set(stopwords.words('english')) \n",
    "\n",
    "survey_text = 'A YouGov study found that American\\'s like Italian food more than any other country\\'s cuisine.'\n",
    "\n",
    "tokenized_survey = word_tokenize(survey_text)\n",
    "\n",
    "text_no_stops = [word for word in tokenized_survey if word not in stop_words]\n",
    "\n",
    "print(f'Words Tokenized: {tokenized_survey}')\n",
    "print('\\n')\n",
    "print(f'Text without Stops: {text_no_stops}')\n"
   ]
  },
  {
   "cell_type": "markdown",
   "id": "88b24485",
   "metadata": {},
   "source": [
    "# Stemming\n",
    "\n",
    "In natural language processing, stemming is the text preprocessing normalization task concerned with bluntly removing word affixes (prefixes and suffixes). For example, stemming would cast the word “going” to “go”. This is a common method used by search engines to improve matching between user input and website hits.\n",
    "\n",
    "NLTK has a built-in stemmer called PorterStemmer. You can use it with a list comprehension to stem each word in a tokenized list of words."
   ]
  },
  {
   "cell_type": "code",
   "execution_count": 8,
   "id": "972b9bec",
   "metadata": {},
   "outputs": [],
   "source": [
    "# First, you must import and initialize the stemmer:\n",
    "from nltk.stem import PorterStemmer\n",
    "stemmer = PorterStemmer()"
   ]
  },
  {
   "cell_type": "code",
   "execution_count": 9,
   "id": "96c946d8",
   "metadata": {},
   "outputs": [],
   "source": [
    "populated_island = \"\"\"Java is an Indonesian island in the Pacific Ocean. \n",
    "                      It is the most populated island in the world,\n",
    "                      with over 140 million people.\"\"\"\n",
    "\n",
    "island_tokenized = word_tokenize(populated_island)\n",
    "stemmed = [stemmer.stem(word) for word in island_tokenized]"
   ]
  },
  {
   "cell_type": "code",
   "execution_count": 10,
   "id": "02d670cb",
   "metadata": {},
   "outputs": [
    {
     "name": "stdout",
     "output_type": "stream",
     "text": [
      "Words Tokenized:\n",
      "['Java', 'is', 'an', 'Indonesian', 'island', 'in', 'the', 'Pacific', 'Ocean', '.', 'It', 'is', 'the', 'most', 'populated', 'island', 'in', 'the', 'world', ',', 'with', 'over', '140', 'million', 'people', '.']\n"
     ]
    }
   ],
   "source": [
    "print('Words Tokenized:')\n",
    "print(island_tokenized)"
   ]
  },
  {
   "cell_type": "code",
   "execution_count": 11,
   "id": "16e1dee6",
   "metadata": {},
   "outputs": [
    {
     "name": "stdout",
     "output_type": "stream",
     "text": [
      "Stemmed Words:\n",
      "['java', 'is', 'an', 'indonesian', 'island', 'in', 'the', 'pacif', 'ocean', '.', 'it', 'is', 'the', 'most', 'popul', 'island', 'in', 'the', 'world', ',', 'with', 'over', '140', 'million', 'peopl', '.']\n"
     ]
    }
   ],
   "source": [
    "print('Stemmed Words:')\n",
    "print(stemmed)"
   ]
  },
  {
   "cell_type": "markdown",
   "id": "9ddfb5d5",
   "metadata": {},
   "source": [
    "# Lemmatization\n",
    "\n",
    "Lemmatization is a method for casting words to their root forms. This is a more involved process than stemming, because it requires the method to know the part-of-speech for each word. Since lemmatization requires the part of speech, it is a less efficient approach than stemming.\n",
    "\n",
    "In the next exercise, we will consider how to tag each word with a part of speech. In the meantime, let’s see how to use NLTK’s lemmatize operation."
   ]
  },
  {
   "cell_type": "code",
   "execution_count": 12,
   "id": "252c2c66",
   "metadata": {},
   "outputs": [],
   "source": [
    "from nltk.stem import WordNetLemmatizer\n",
    "lemmatizer = WordNetLemmatizer()"
   ]
  },
  {
   "cell_type": "code",
   "execution_count": 13,
   "id": "56ebf8a6",
   "metadata": {},
   "outputs": [],
   "source": [
    "populated_island = 'Indonesia was founded in 1945. It contains the most populated island in the world, Java, with over 140 million people.'\n",
    "tokenized_string = word_tokenize(populated_island)\n",
    "lemmatized_words = [lemmatizer.lemmatize(word) for word in  tokenized_string]"
   ]
  },
  {
   "cell_type": "code",
   "execution_count": 14,
   "id": "de107d67",
   "metadata": {},
   "outputs": [
    {
     "name": "stdout",
     "output_type": "stream",
     "text": [
      "Words Tokenized: ['Indonesia', 'was', 'founded', 'in', '1945', '.', 'It', 'contains', 'the', 'most', 'populated', 'island', 'in', 'the', 'world', ',', 'Java', ',', 'with', 'over', '140', 'million', 'people', '.']\n",
      "Lemmatized Words: ['Indonesia', 'wa', 'founded', 'in', '1945', '.', 'It', 'contains', 'the', 'most', 'populated', 'island', 'in', 'the', 'world', ',', 'Java', ',', 'with', 'over', '140', 'million', 'people', '.']\n"
     ]
    }
   ],
   "source": [
    "print(f'Words Tokenized: {tokenized_string}')\n",
    "print(f'Lemmatized Words: {lemmatized_words}')"
   ]
  },
  {
   "cell_type": "markdown",
   "id": "46b035aa",
   "metadata": {},
   "source": [
    "# Part-of-Speech Tagging\n",
    "\n",
    "To improve the performance of lemmatization, we need to find the part of speech for each word in our string. In script.py, to the right, we created a part-of-speech tagging function. The function accepts a word, then returns the most common part of speech for that word. Let’s break down the steps:"
   ]
  },
  {
   "cell_type": "code",
   "execution_count": 16,
   "id": "b13b647b",
   "metadata": {},
   "outputs": [
    {
     "name": "stdout",
     "output_type": "stream",
     "text": [
      "Joshua   :   n\n",
      "is   :   v\n",
      "a   :   n\n",
      "sexy   :   a\n",
      "beast   :   n\n",
      "and   :   n\n",
      "can   :   n\n",
      "dance   :   n\n",
      "like   :   v\n",
      "a   :   n\n",
      "feind   :   n\n",
      ".   :   n\n"
     ]
    }
   ],
   "source": [
    "import nltk\n",
    "from nltk.corpus import wordnet\n",
    "from collections import Counter\n",
    "from nltk.stem import WordNetLemmatizer\n",
    "\n",
    "def get_part_of_speech(word):\n",
    "    probable_part_of_speech = wordnet.synsets(word)\n",
    "  \n",
    "    pos_counts = Counter()\n",
    "\n",
    "    pos_counts[\"n\"] = len(  [ item for item in probable_part_of_speech if item.pos()==\"n\"]  )\n",
    "    pos_counts[\"v\"] = len(  [ item for item in probable_part_of_speech if item.pos()==\"v\"]  )\n",
    "    pos_counts[\"a\"] = len(  [ item for item in probable_part_of_speech if item.pos()==\"a\"]  )\n",
    "    pos_counts[\"r\"] = len(  [ item for item in probable_part_of_speech if item.pos()==\"r\"]  )\n",
    "  \n",
    "    most_likely_part_of_speech = pos_counts.most_common(1)[0][0]\n",
    "    return most_likely_part_of_speech, pos_counts\n",
    "\n",
    "# Just to see how this works:\n",
    "text = \"Joshua is a sexy beast and can dance like a feind.\"\n",
    "tokenized = word_tokenize(text)\n",
    "for word in tokenized:\n",
    "    pos, pos_counts = get_part_of_speech(word)\n",
    "    print(word + '   :   ' + pos) \n",
    "# So it interprets \"can\" and \"dance\" as nouns, but they are not nouns in this context"
   ]
  },
  {
   "cell_type": "code",
   "execution_count": 26,
   "id": "467b17b3",
   "metadata": {},
   "outputs": [],
   "source": [
    "lemmatizer = WordNetLemmatizer()\n",
    "lemmatized_pos = [lemmatizer.lemmatize(word, get_part_of_speech(word)) for word in  tokenized_string]"
   ]
  },
  {
   "cell_type": "code",
   "execution_count": 30,
   "id": "dd40c284",
   "metadata": {},
   "outputs": [
    {
     "name": "stdout",
     "output_type": "stream",
     "text": [
      "The lemmatized words are: ['Indonesia', 'be', 'found', 'in', '1945', '.', 'It', 'contain', 'the', 'most', 'populate', 'island', 'in', 'the', 'world', ',', 'Java', ',', 'with', 'over', '140', 'million', 'people', '.']\n"
     ]
    }
   ],
   "source": [
    "print(f'The lemmatized words are: {lemmatized_pos}')"
   ]
  },
  {
   "cell_type": "markdown",
   "id": "5390352a",
   "metadata": {},
   "source": []
  },
  {
   "cell_type": "code",
   "execution_count": null,
   "id": "678c1122",
   "metadata": {},
   "outputs": [],
   "source": []
  },
  {
   "cell_type": "code",
   "execution_count": 20,
   "id": "520c00d7",
   "metadata": {},
   "outputs": [],
   "source": [
    "word = 'dance'\n",
    "probable_part_of_speech = wordnet.synsets(word)\n",
    "pos, pos_counts = get_part_of_speech(word)"
   ]
  },
  {
   "cell_type": "code",
   "execution_count": 18,
   "id": "3788dc53",
   "metadata": {},
   "outputs": [
    {
     "data": {
      "text/plain": [
       "'n'"
      ]
     },
     "execution_count": 18,
     "metadata": {},
     "output_type": "execute_result"
    }
   ],
   "source": [
    "pos"
   ]
  },
  {
   "cell_type": "code",
   "execution_count": 23,
   "id": "af63d98c",
   "metadata": {},
   "outputs": [
    {
     "data": {
      "text/plain": [
       "[('n', 4), ('v', 3), ('a', 0), ('r', 0)]"
      ]
     },
     "execution_count": 23,
     "metadata": {},
     "output_type": "execute_result"
    }
   ],
   "source": [
    "pos_counts.most_common()"
   ]
  },
  {
   "cell_type": "code",
   "execution_count": 21,
   "id": "18c2c96e",
   "metadata": {},
   "outputs": [
    {
     "data": {
      "text/plain": [
       "[Synset('dance.n.01'),\n",
       " Synset('dance.n.02'),\n",
       " Synset('dancing.n.01'),\n",
       " Synset('dance.n.04'),\n",
       " Synset('dance.v.01'),\n",
       " Synset('dance.v.02'),\n",
       " Synset('dance.v.03')]"
      ]
     },
     "execution_count": 21,
     "metadata": {},
     "output_type": "execute_result"
    }
   ],
   "source": [
    "probable_part_of_speech"
   ]
  },
  {
   "cell_type": "markdown",
   "id": "7636d029",
   "metadata": {},
   "source": [
    "# SpaCy"
   ]
  },
  {
   "cell_type": "code",
   "execution_count": 39,
   "id": "fcde7763",
   "metadata": {},
   "outputs": [],
   "source": [
    "import spacy\n",
    "# nlp = spacy.load(\"en_core_web_lg\", disable=['parser', 'ner'])\n",
    "nlp = spacy.load(\"en_core_web_lg\")"
   ]
  },
  {
   "cell_type": "code",
   "execution_count": 47,
   "id": "07a70d78",
   "metadata": {},
   "outputs": [],
   "source": [
    "sentence = \"\"\"Following mice attacks, caring farmers weren't marching to Delhi for better living conditions. \n",
    "Delhi police on Tuesday fired water cannons and teargas shells at protesting farmers as they tried to \n",
    "break barricades with their cars, automobiles and tractors.\"\"\"\n",
    "# sentence = \"The striped bats are hanging on their feet for best\""
   ]
  },
  {
   "cell_type": "code",
   "execution_count": 57,
   "id": "e94c954a",
   "metadata": {},
   "outputs": [],
   "source": [
    "doc = nlp(sentence.replace('\\n', ''))"
   ]
  },
  {
   "cell_type": "code",
   "execution_count": 58,
   "id": "c0c18198",
   "metadata": {},
   "outputs": [
    {
     "data": {
      "text/plain": [
       "\"follow mice attack , care farmer be n't march to Delhi for well living condition . Delhi police on Tuesday fire water cannon and teargas shell at protest farmer as they try to break barricade with their car , automobile and tractor .\""
      ]
     },
     "execution_count": 58,
     "metadata": {},
     "output_type": "execute_result"
    }
   ],
   "source": [
    "\" \".join([token.lemma_ for token in doc])"
   ]
  },
  {
   "cell_type": "code",
   "execution_count": 59,
   "id": "a5c58654",
   "metadata": {},
   "outputs": [
    {
     "name": "stdout",
     "output_type": "stream",
     "text": [
      "Following : follow\n",
      "mice : mice\n",
      "attacks : attack\n",
      ", : ,\n",
      "caring : care\n",
      "farmers : farmer\n",
      "were : be\n",
      "n't : n't\n",
      "marching : march\n",
      "to : to\n",
      "Delhi : Delhi\n",
      "for : for\n",
      "better : well\n",
      "living : living\n",
      "conditions : condition\n",
      ". : .\n",
      "Delhi : Delhi\n",
      "police : police\n",
      "on : on\n",
      "Tuesday : Tuesday\n",
      "fired : fire\n",
      "water : water\n",
      "cannons : cannon\n",
      "and : and\n",
      "teargas : teargas\n",
      "shells : shell\n",
      "at : at\n",
      "protesting : protest\n",
      "farmers : farmer\n",
      "as : as\n",
      "they : they\n",
      "tried : try\n",
      "to : to\n",
      "break : break\n",
      "barricades : barricade\n",
      "with : with\n",
      "their : their\n",
      "cars : car\n",
      ", : ,\n",
      "automobiles : automobile\n",
      "and : and\n",
      "tractors : tractor\n",
      ". : .\n"
     ]
    }
   ],
   "source": [
    "for token in doc:\n",
    "    print(token.text + ' : ' + token.lemma_)"
   ]
  },
  {
   "cell_type": "code",
   "execution_count": 117,
   "id": "4f3cd23f",
   "metadata": {},
   "outputs": [
    {
     "name": "stdout",
     "output_type": "stream",
     "text": [
      "Following mice attacks, caring farmers weren't marching to Delhi for better living conditions. \n",
      "Delhi police on Tuesday fired water cannons and teargas shells at protesting farmers as they tried to \n",
      "break barricades with their cars, automobiles and tractors.\n"
     ]
    }
   ],
   "source": [
    "import string\n",
    "s = \"\"\"Following mice attacks, caring farmers weren't marching to Delhi for better living conditions. \n",
    "Delhi police on Tuesday fired water cannons and teargas shells at protesting farmers as they tried to \n",
    "break barricades with their cars, automobiles and tractors.\"\"\"\n",
    "# s = s.translate(str.maketrans('', '', string.punctuation)).replace('\\n', '')\n",
    "print(s)"
   ]
  },
  {
   "cell_type": "code",
   "execution_count": 118,
   "id": "4c0f95cd",
   "metadata": {},
   "outputs": [],
   "source": [
    "doc = nlp(s)"
   ]
  },
  {
   "cell_type": "code",
   "execution_count": 103,
   "id": "ff46a57e",
   "metadata": {},
   "outputs": [
    {
     "name": "stdout",
     "output_type": "stream",
     "text": [
      "Following : follow\n",
      "mice : mice\n",
      "attacks : attack\n",
      "caring : care\n",
      "farmers : farmer\n",
      "were : be\n",
      "nt : nt\n",
      "marching : march\n",
      "to : to\n",
      "Delhi : Delhi\n",
      "for : for\n",
      "better : well\n",
      "living : living\n",
      "conditions : condition\n",
      "Delhi : Delhi\n",
      "police : police\n",
      "on : on\n",
      "Tuesday : Tuesday\n",
      "fired : fire\n",
      "water : water\n",
      "cannons : cannon\n",
      "and : and\n",
      "teargas : teargas\n",
      "shells : shell\n",
      "at : at\n",
      "protesting : protest\n",
      "farmers : farmer\n",
      "as : as\n",
      "they : they\n",
      "tried : try\n",
      "to : to\n",
      "break : break\n",
      "barricades : barricade\n",
      "with : with\n",
      "their : their\n",
      "cars : car\n",
      "automobiles : automobile\n",
      "and : and\n",
      "tractors : tractor\n"
     ]
    }
   ],
   "source": [
    "for token in doc:\n",
    "    print(token.text + ' : ' + token.lemma_)"
   ]
  },
  {
   "cell_type": "code",
   "execution_count": 81,
   "id": "f13a9038",
   "metadata": {},
   "outputs": [
    {
     "data": {
      "text/plain": [
       "39"
      ]
     },
     "execution_count": 81,
     "metadata": {},
     "output_type": "execute_result"
    }
   ],
   "source": [
    "len(doc)"
   ]
  },
  {
   "cell_type": "code",
   "execution_count": 85,
   "id": "96eb8020",
   "metadata": {},
   "outputs": [
    {
     "name": "stdout",
     "output_type": "stream",
     "text": [
      "range(0, 4)\n",
      "range(1, 5)\n",
      "range(2, 6)\n",
      "range(3, 7)\n",
      "range(4, 8)\n",
      "range(5, 9)\n",
      "range(6, 10)\n",
      "range(7, 11)\n",
      "range(8, 12)\n",
      "range(9, 13)\n",
      "range(10, 14)\n",
      "range(11, 15)\n",
      "range(12, 16)\n",
      "range(13, 17)\n",
      "range(14, 18)\n",
      "range(15, 19)\n",
      "range(16, 20)\n",
      "range(17, 21)\n",
      "range(18, 22)\n",
      "range(19, 23)\n",
      "range(20, 24)\n",
      "range(21, 25)\n",
      "range(22, 26)\n",
      "range(23, 27)\n",
      "range(24, 28)\n",
      "range(25, 29)\n",
      "range(26, 30)\n",
      "range(27, 31)\n",
      "range(28, 32)\n",
      "range(29, 33)\n",
      "range(30, 34)\n",
      "range(31, 35)\n",
      "range(32, 36)\n",
      "range(33, 37)\n",
      "range(34, 38)\n"
     ]
    }
   ],
   "source": [
    "for i in range(len(doc) - 4):\n",
    "    window = range(i, i+4)\n",
    "    print(window)"
   ]
  },
  {
   "cell_type": "code",
   "execution_count": 119,
   "id": "3175c290",
   "metadata": {},
   "outputs": [
    {
     "data": {
      "text/plain": [
       "Following mice attacks, caring farmers weren't marching to Delhi for better living conditions. \n",
       "Delhi police on Tuesday fired water cannons and teargas shells at protesting farmers as they tried to \n",
       "break barricades with their cars, automobiles and tractors."
      ]
     },
     "execution_count": 119,
     "metadata": {},
     "output_type": "execute_result"
    }
   ],
   "source": [
    "doc"
   ]
  },
  {
   "cell_type": "code",
   "execution_count": 123,
   "id": "0506b7cb",
   "metadata": {},
   "outputs": [
    {
     "name": "stdout",
     "output_type": "stream",
     "text": [
      "['follow', 'mice', 'attack', ',', 'care', 'farmer', 'be', \"n't\", 'march', 'to', 'Delhi', 'for', 'well', 'living', 'condition', '.', '\\n', 'Delhi', 'police', 'on', 'Tuesday', 'fire', 'water', 'cannon', 'and', 'teargas', 'shell', 'at', 'protest', 'farmer', 'as', 'they', 'try', 'to', '\\n', 'break', 'barricade', 'with', 'their', 'car', ',', 'automobile', 'and', 'tractor', '.']\n",
      "['living', 'condition']\n"
     ]
    }
   ],
   "source": [
    "doc_lemmas = [token.lemma_ for token in doc]\n",
    "print(doc_lemmas)\n",
    "anchor = nlp('living conditions')\n",
    "anchor_lemmas = [token.lemma_ for token in anchor]\n",
    "print(anchor_lemmas)"
   ]
  },
  {
   "cell_type": "code",
   "execution_count": 124,
   "id": "e123b7d5",
   "metadata": {},
   "outputs": [
    {
     "name": "stdout",
     "output_type": "stream",
     "text": [
      "['for', 'well', 'living', 'condition']\n",
      "['well', 'living', 'condition', '.']\n",
      "['living', 'condition', '.', '\\n']\n"
     ]
    }
   ],
   "source": [
    "for i in range(len(doc) - 4):\n",
    "    window = (i, i+4)\n",
    "    test = [(l in doc_lemmas[window[0]:window[1]]) for l in anchor_lemmas]\n",
    "    if all(test):\n",
    "        print(doc_lemmas[window[0]:window[1]])"
   ]
  },
  {
   "cell_type": "code",
   "execution_count": 122,
   "id": "a529904e",
   "metadata": {},
   "outputs": [
    {
     "data": {
      "text/plain": [
       "'mice'"
      ]
     },
     "execution_count": 122,
     "metadata": {},
     "output_type": "execute_result"
    }
   ],
   "source": [
    "nlp('following mice attacks')[1].lemma_"
   ]
  },
  {
   "cell_type": "code",
   "execution_count": 136,
   "id": "0d22b26e",
   "metadata": {},
   "outputs": [],
   "source": [
    "sentences = [sent for sent in doc.sents]"
   ]
  },
  {
   "cell_type": "code",
   "execution_count": 142,
   "id": "58edcbf8",
   "metadata": {},
   "outputs": [
    {
     "data": {
      "text/plain": [
       "[Following mice attacks, caring farmers weren't marching to Delhi for better living conditions.,\n",
       " \n",
       " Delhi police on Tuesday fired water cannons and teargas shells at protesting farmers as they tried to \n",
       " break barricades with their cars, automobiles and tractors.]"
      ]
     },
     "execution_count": 142,
     "metadata": {},
     "output_type": "execute_result"
    }
   ],
   "source": [
    "sentences"
   ]
  },
  {
   "cell_type": "code",
   "execution_count": 149,
   "id": "0ca05898",
   "metadata": {},
   "outputs": [
    {
     "name": "stdout",
     "output_type": "stream",
     "text": [
      "['follow', 'mice', 'attack', ',', 'care', 'farmer', 'be', \"n't\", 'march', 'to', 'Delhi', 'for', 'well', 'living', 'condition', '.']\n",
      "Following mice attacks, caring farmers weren't marching to Delhi for better living conditions.\n",
      "['\\n', 'Delhi', 'police', 'on', 'Tuesday', 'fire', 'water', 'cannon', 'and', 'teargas', 'shell', 'at', 'protest', 'farmer', 'as', 'they', 'try', 'to', '\\n', 'break', 'barricade', 'with', 'their', 'car', ',', 'automobile', 'and', 'tractor', '.']\n",
      "\n",
      "Delhi police on Tuesday fired water cannons and teargas shells at protesting farmers as they tried to \n",
      "break barricades with their cars, automobiles and tractors.\n"
     ]
    }
   ],
   "source": [
    "for sent in doc.sents:\n",
    "    print([token.lemma_ for token in sent])\n",
    "    print(sent.text)"
   ]
  },
  {
   "cell_type": "code",
   "execution_count": 143,
   "id": "e8ffff8a",
   "metadata": {},
   "outputs": [
    {
     "data": {
      "text/plain": [
       "['Following',\n",
       " 'mice',\n",
       " 'attacks',\n",
       " ',',\n",
       " 'caring',\n",
       " 'farmers',\n",
       " 'were',\n",
       " \"n't\",\n",
       " 'marching',\n",
       " 'to',\n",
       " 'Delhi',\n",
       " 'for',\n",
       " 'better',\n",
       " 'living',\n",
       " 'conditions',\n",
       " '.']"
      ]
     },
     "execution_count": 143,
     "metadata": {},
     "output_type": "execute_result"
    }
   ],
   "source": []
  },
  {
   "cell_type": "code",
   "execution_count": 144,
   "id": "7620457a",
   "metadata": {},
   "outputs": [
    {
     "name": "stdout",
     "output_type": "stream",
     "text": [
      "[(1, 2), (3, 4)]\n"
     ]
    }
   ],
   "source": [
    "a = []\n",
    "a.append((1,2))\n",
    "a.append((3,4))\n",
    "print(a)"
   ]
  },
  {
   "cell_type": "code",
   "execution_count": null,
   "id": "7aece681",
   "metadata": {},
   "outputs": [],
   "source": []
  }
 ],
 "metadata": {
  "kernelspec": {
   "display_name": "Python 3",
   "language": "python",
   "name": "python3"
  },
  "language_info": {
   "codemirror_mode": {
    "name": "ipython",
    "version": 3
   },
   "file_extension": ".py",
   "mimetype": "text/x-python",
   "name": "python",
   "nbconvert_exporter": "python",
   "pygments_lexer": "ipython3",
   "version": "3.8.8"
  }
 },
 "nbformat": 4,
 "nbformat_minor": 5
}
