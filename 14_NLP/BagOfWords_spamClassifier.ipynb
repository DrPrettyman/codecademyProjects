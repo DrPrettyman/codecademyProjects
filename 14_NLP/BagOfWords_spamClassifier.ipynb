{
 "cells": [
  {
   "cell_type": "markdown",
   "id": "397cd7cf",
   "metadata": {},
   "source": [
    "# Spam classifier\n",
    "\n",
    "from [UCI](https://archive.ics.uci.edu/ml/datasets/sms%20spam%20collection) we have a collection of spam sms messages. The readme file states that collection has a total of 4,827 SMS legitimate messages (86.6%) and a total of 747 (13.4%) spam messages.\n",
    "\n",
    "Text preprocessing, tokenizing and filtering of stopwords are all included in ``sklearn.feature_extraction.CountVectorizer``, which builds a dictionary of features and transforms documents to feature vectors."
   ]
  },
  {
   "cell_type": "code",
   "execution_count": 20,
   "id": "79a3d158",
   "metadata": {},
   "outputs": [
    {
     "data": {
      "text/html": [
       "<div>\n",
       "<style scoped>\n",
       "    .dataframe tbody tr th:only-of-type {\n",
       "        vertical-align: middle;\n",
       "    }\n",
       "\n",
       "    .dataframe tbody tr th {\n",
       "        vertical-align: top;\n",
       "    }\n",
       "\n",
       "    .dataframe thead th {\n",
       "        text-align: right;\n",
       "    }\n",
       "</style>\n",
       "<table border=\"1\" class=\"dataframe\">\n",
       "  <thead>\n",
       "    <tr style=\"text-align: right;\">\n",
       "      <th></th>\n",
       "      <th>ham or spam</th>\n",
       "      <th>message</th>\n",
       "      <th>label</th>\n",
       "    </tr>\n",
       "  </thead>\n",
       "  <tbody>\n",
       "    <tr>\n",
       "      <th>0</th>\n",
       "      <td>ham</td>\n",
       "      <td>Go until jurong point, crazy.. Available only ...</td>\n",
       "      <td>0</td>\n",
       "    </tr>\n",
       "    <tr>\n",
       "      <th>1</th>\n",
       "      <td>ham</td>\n",
       "      <td>Ok lar... Joking wif u oni...</td>\n",
       "      <td>0</td>\n",
       "    </tr>\n",
       "    <tr>\n",
       "      <th>2</th>\n",
       "      <td>spam</td>\n",
       "      <td>Free entry in 2 a wkly comp to win FA Cup fina...</td>\n",
       "      <td>1</td>\n",
       "    </tr>\n",
       "    <tr>\n",
       "      <th>3</th>\n",
       "      <td>ham</td>\n",
       "      <td>U dun say so early hor... U c already then say...</td>\n",
       "      <td>0</td>\n",
       "    </tr>\n",
       "    <tr>\n",
       "      <th>4</th>\n",
       "      <td>ham</td>\n",
       "      <td>Nah I don't think he goes to usf, he lives aro...</td>\n",
       "      <td>0</td>\n",
       "    </tr>\n",
       "  </tbody>\n",
       "</table>\n",
       "</div>"
      ],
      "text/plain": [
       "  ham or spam                                            message  label\n",
       "0         ham  Go until jurong point, crazy.. Available only ...      0\n",
       "1         ham                      Ok lar... Joking wif u oni...      0\n",
       "2        spam  Free entry in 2 a wkly comp to win FA Cup fina...      1\n",
       "3         ham  U dun say so early hor... U c already then say...      0\n",
       "4         ham  Nah I don't think he goes to usf, he lives aro...      0"
      ]
     },
     "execution_count": 20,
     "metadata": {},
     "output_type": "execute_result"
    }
   ],
   "source": [
    "# get the data using pandas. \n",
    "# By inspection we see the file is tab-separated\n",
    "import pandas as pd\n",
    "df = pd.read_csv('smsspamcollection/SMSSpamCollection', \n",
    "                sep='\\t', names=['ham or spam', 'message'])\n",
    "df['label'] = df['ham or spam'].apply(lambda s: 1 if s == 'spam' else 0)\n",
    "df.head(5)"
   ]
  },
  {
   "cell_type": "code",
   "execution_count": 21,
   "id": "734b6223",
   "metadata": {},
   "outputs": [],
   "source": [
    "# split the dataset into train and test data\n",
    "\n",
    "from sklearn.model_selection import train_test_split\n",
    "\n",
    "X_train, X_test, y_train, y_test = \\\n",
    "    train_test_split(df['message'], df['label'])"
   ]
  },
  {
   "cell_type": "code",
   "execution_count": 22,
   "id": "89413600",
   "metadata": {},
   "outputs": [
    {
     "name": "stdout",
     "output_type": "stream",
     "text": [
      "0.9827709978463748\n"
     ]
    }
   ],
   "source": [
    "from sklearn.naive_bayes import MultinomialNB\n",
    "from sklearn.feature_extraction.text import CountVectorizer\n",
    "\n",
    "# Transform the message data (X_train and X_test) into vectors\n",
    "bow_vectorizer = CountVectorizer()\n",
    "training_vectors = bow_vectorizer.fit_transform(X_train)\n",
    "test_vectors = bow_vectorizer.transform(X_test)\n",
    "\n",
    "# Init a Naive Bayes Classifier and train it on the \n",
    "# vectorized training data (training_vectors) and \n",
    "# the training labels (y_train) \n",
    "spam_classifier = MultinomialNB()\n",
    "spam_classifier.fit(training_vectors, y_train)\n",
    "\n",
    "# see how good our classifier is using ``score``\n",
    "predictions_score = spam_classifier.score(test_vectors, y_test)\n",
    "print(predictions_score)"
   ]
  },
  {
   "cell_type": "code",
   "execution_count": 28,
   "id": "6ba9d7b4",
   "metadata": {},
   "outputs": [
    {
     "name": "stdout",
     "output_type": "stream",
     "text": [
      "[1]\n"
     ]
    }
   ],
   "source": [
    "# We could use our classifier to classify other messages\n",
    "message = 'Yo boi! ya want a bigger schlong? take these pills ya woman\\'s gonna be wet wet wet call this number now click on our link, first order free!!! usual price $50, no catch! call today, '\n",
    "message_vector = bow_vectorizer.transform([message])\n",
    "print(spam_classifier.predict(message_vector))\n"
   ]
  },
  {
   "cell_type": "code",
   "execution_count": null,
   "id": "dcf435b9",
   "metadata": {},
   "outputs": [],
   "source": []
  }
 ],
 "metadata": {
  "kernelspec": {
   "display_name": "Python 3",
   "language": "python",
   "name": "python3"
  },
  "language_info": {
   "codemirror_mode": {
    "name": "ipython",
    "version": 3
   },
   "file_extension": ".py",
   "mimetype": "text/x-python",
   "name": "python",
   "nbconvert_exporter": "python",
   "pygments_lexer": "ipython3",
   "version": "3.8.8"
  }
 },
 "nbformat": 4,
 "nbformat_minor": 5
}
