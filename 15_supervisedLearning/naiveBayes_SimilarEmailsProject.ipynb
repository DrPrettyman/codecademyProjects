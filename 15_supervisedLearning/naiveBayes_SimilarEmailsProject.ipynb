{
 "cells": [
  {
   "cell_type": "markdown",
   "id": "d34aa81d",
   "metadata": {},
   "source": [
    "# Email Similarity\n",
    "\n",
    "In this project, you will use scikit-learn’s Naive Bayes implementation on several different datasets. By reporting the accuracy of the classifier, we can find which datasets are harder to distinguish. For example, how difficult do you think it is to distinguish the difference between emails about hockey and emails about soccer? How hard is it to tell the difference between emails about hockey and emails about tech? In this project, we’ll find out exactly how difficult those two tasks are."
   ]
  },
  {
   "cell_type": "code",
   "execution_count": 27,
   "id": "dc9a02f2",
   "metadata": {},
   "outputs": [],
   "source": [
    "from sklearn.datasets import fetch_20newsgroups\n",
    "from sklearn.naive_bayes import MultinomialNB\n",
    "from sklearn.feature_extraction.text import CountVectorizer\n",
    "\n",
    "emails = fetch_20newsgroups()"
   ]
  },
  {
   "cell_type": "markdown",
   "id": "2e281069",
   "metadata": {},
   "source": [
    "### 1\n",
    "\n",
    "We’ve imported a dataset of emails from scikit-learn’s datasets. All of these emails are tagged based on their content.\n",
    "\n",
    "Print emails.target_names to see the different categories."
   ]
  },
  {
   "cell_type": "code",
   "execution_count": 28,
   "id": "30dda190",
   "metadata": {},
   "outputs": [
    {
     "name": "stdout",
     "output_type": "stream",
     "text": [
      "['alt.atheism', 'comp.graphics', 'comp.os.ms-windows.misc', 'comp.sys.ibm.pc.hardware', 'comp.sys.mac.hardware', 'comp.windows.x', 'misc.forsale', 'rec.autos', 'rec.motorcycles', 'rec.sport.baseball', 'rec.sport.hockey', 'sci.crypt', 'sci.electronics', 'sci.med', 'sci.space', 'soc.religion.christian', 'talk.politics.guns', 'talk.politics.mideast', 'talk.politics.misc', 'talk.religion.misc']\n"
     ]
    }
   ],
   "source": [
    "print(emails.target_names)"
   ]
  },
  {
   "cell_type": "markdown",
   "id": "186a3868",
   "metadata": {},
   "source": [
    "### 2\n",
    "\n",
    "We’re interested in seeing how effective our Naive Bayes classifier is at telling the difference between a baseball email and a hockey email. We can select the categories of articles we want from fetch_20newsgroups by adding the parameter categories.\n",
    "\n",
    "In the function call, set categories equal to the list ['rec.sport.baseball', 'rec.sport.hockey']"
   ]
  },
  {
   "cell_type": "code",
   "execution_count": 7,
   "id": "95bc9d1b",
   "metadata": {},
   "outputs": [],
   "source": [
    "emails = fetch_20newsgroups(categories=['rec.sport.baseball', 'rec.sport.hockey'])"
   ]
  },
  {
   "cell_type": "markdown",
   "id": "71dbaeac",
   "metadata": {},
   "source": [
    "### 3\n",
    "\n",
    "Let’s take a look at one of these emails.\n",
    "\n",
    "All of the emails are stored in a list called emails.data. Print the email at index 5 in the list."
   ]
  },
  {
   "cell_type": "code",
   "execution_count": 8,
   "id": "88564541",
   "metadata": {},
   "outputs": [
    {
     "name": "stdout",
     "output_type": "stream",
     "text": [
      "From: mmb@lamar.ColoState.EDU (Michael Burger)\n",
      "Subject: More TV Info\n",
      "Distribution: na\n",
      "Nntp-Posting-Host: lamar.acns.colostate.edu\n",
      "Organization: Colorado State University, Fort Collins, CO  80523\n",
      "Lines: 36\n",
      "\n",
      "United States Coverage:\n",
      "Sunday April 18\n",
      "  N.J./N.Y.I. at Pittsburgh - 1:00 EDT to Eastern Time Zone\n",
      "  ABC - Gary Thorne and Bill Clement\n",
      "\n",
      "  St. Louis at Chicago - 12:00 CDT and 11:00 MDT - to Central/Mountain Zones\n",
      "  ABC - Mike Emerick and Jim Schoenfeld\n",
      "\n",
      "  Los Angeles at Calgary - 12:00 PDT and 11:00 ADT - to Pacific/Alaskan Zones\n",
      "  ABC - Al Michaels and John Davidson\n",
      "\n",
      "Tuesday, April 20\n",
      "  N.J./N.Y.I. at Pittsburgh - 7:30 EDT Nationwide\n",
      "  ESPN - Gary Thorne and Bill Clement\n",
      "\n",
      "Thursday, April 22 and Saturday April 24\n",
      "  To Be Announced - 7:30 EDT Nationwide\n",
      "  ESPN - To Be Announced\n",
      "\n",
      "\n",
      "Canadian Coverage:\n",
      "\n",
      "Sunday, April 18\n",
      "  Buffalo at Boston - 7:30 EDT Nationwide\n",
      "  TSN - ???\n",
      "\n",
      "Tuesday, April 20\n",
      "  N.J.D./N.Y. at Pittsburgh - 7:30 EDT Nationwide\n",
      "  TSN - ???\n",
      "\n",
      "Wednesday, April 21\n",
      "  St. Louis at Chicago - 8:30 EDT Nationwide\n",
      "  TSN - ???\n",
      "\n",
      "\n",
      "\n",
      "\n"
     ]
    }
   ],
   "source": [
    "print(emails.data[5])"
   ]
  },
  {
   "cell_type": "markdown",
   "id": "5bdf3bb6",
   "metadata": {},
   "source": [
    "### 4\n",
    "\n",
    "All of the labels can be found in the list emails.target. Print the label of the email at index 5.\n",
    "\n",
    "The labels themselves are numbers, but those numbers correspond to the label names found at emails.target_names.\n",
    "\n",
    "Is this a baseball email or a hockey email?"
   ]
  },
  {
   "cell_type": "code",
   "execution_count": 9,
   "id": "44f5c8a1",
   "metadata": {},
   "outputs": [
    {
     "name": "stdout",
     "output_type": "stream",
     "text": [
      "1\n"
     ]
    }
   ],
   "source": [
    "print(emails.target[5]) \n",
    "# This gives output '1', so the email corresponds to index 1 of the label names (i.e. Hockey)"
   ]
  },
  {
   "cell_type": "markdown",
   "id": "9cb7c1e9",
   "metadata": {},
   "source": [
    "### 5\n",
    "\n",
    "We now want to split our data into training and test sets. Change the name of your variable from emails to train_emails. Add these three parameters to the function call:\n",
    "\n",
    "subset='train', shuffle = True, random_state = 108\n",
    "\n",
    "Adding the random_state parameter will make sure that every time you run the code, your dataset is split in the same way."
   ]
  },
  {
   "cell_type": "code",
   "execution_count": 11,
   "id": "8b17aac0",
   "metadata": {},
   "outputs": [],
   "source": [
    "train_emails = fetch_20newsgroups(categories=['rec.sport.baseball', 'rec.sport.hockey'], \n",
    "                                  subset='train', shuffle = True, random_state = 108)"
   ]
  },
  {
   "cell_type": "markdown",
   "id": "e99c4c8b",
   "metadata": {},
   "source": [
    "### 6\n",
    "\n",
    "Create another variable named test_emails and set it equal to fetch_20newsgroups. The parameters of the function should be the same as before except subset should now be 'test'."
   ]
  },
  {
   "cell_type": "code",
   "execution_count": 13,
   "id": "509730e0",
   "metadata": {},
   "outputs": [],
   "source": [
    "test_emails = fetch_20newsgroups(categories=['rec.sport.baseball', 'rec.sport.hockey'], \n",
    "                                 subset='test', shuffle = True, random_state = 108)"
   ]
  },
  {
   "cell_type": "markdown",
   "id": "66f6b916",
   "metadata": {},
   "source": [
    "### 7\n",
    "\n",
    "We want to transform these emails into lists of word counts. The CountVectorizer class makes this easy for us.\n",
    "\n",
    "Create a CountVectorizer object and name it counter."
   ]
  },
  {
   "cell_type": "code",
   "execution_count": 14,
   "id": "d7204e28",
   "metadata": {},
   "outputs": [],
   "source": [
    "counter = CountVectorizer()"
   ]
  },
  {
   "cell_type": "markdown",
   "id": "6a13526d",
   "metadata": {},
   "source": [
    "### 8\n",
    "\n",
    "We need to tell counter what possible words can exist in our emails. counter has a .fit() a function that takes a list of all your data.\n",
    "\n",
    "Call .fit() with test_emails.data + train_emails.data as a parameter."
   ]
  },
  {
   "cell_type": "code",
   "execution_count": 15,
   "id": "586fc4cf",
   "metadata": {},
   "outputs": [
    {
     "data": {
      "text/plain": [
       "CountVectorizer()"
      ]
     },
     "execution_count": 15,
     "metadata": {},
     "output_type": "execute_result"
    }
   ],
   "source": [
    "counter.fit(test_emails.data + train_emails.data)"
   ]
  },
  {
   "cell_type": "markdown",
   "id": "de799100",
   "metadata": {},
   "source": [
    "### 9\n",
    "\n",
    "We can now make a list of the counts of our words in our training set.\n",
    "\n",
    "Create a variable named train_counts. Set it equal to counter‘s transform function using train_emails.data as a parameter."
   ]
  },
  {
   "cell_type": "code",
   "execution_count": 16,
   "id": "bac5d121",
   "metadata": {},
   "outputs": [],
   "source": [
    "train_counts = counter.transform(train_emails.data)"
   ]
  },
  {
   "cell_type": "markdown",
   "id": "fb814edf",
   "metadata": {},
   "source": [
    "### 10\n",
    "\n",
    "Let’s also make a variable named test_counts. This should be the same function call as before, but use test_emails.data as the parameter of transform."
   ]
  },
  {
   "cell_type": "code",
   "execution_count": 18,
   "id": "038557e1",
   "metadata": {},
   "outputs": [],
   "source": [
    "test_counts = counter.transform(test_emails.data)"
   ]
  },
  {
   "cell_type": "markdown",
   "id": "427d79d1",
   "metadata": {},
   "source": [
    "### 11\n",
    "\n",
    "Let’s now make a Naive Bayes classifier that we can train and test on. Create a MultinomialNB object named classifier."
   ]
  },
  {
   "cell_type": "code",
   "execution_count": 19,
   "id": "ee2be1de",
   "metadata": {},
   "outputs": [],
   "source": [
    "classifier = MultinomialNB()"
   ]
  },
  {
   "cell_type": "markdown",
   "id": "0b0d4d9a",
   "metadata": {},
   "source": [
    "### 12\n",
    "\n",
    "Call classifier‘s .fit() function. .fit() takes two parameters. The first should be our training set, which for us is train_counts. The second should be the labels associated with the training emails. Those are found in train_emails.target."
   ]
  },
  {
   "cell_type": "code",
   "execution_count": 20,
   "id": "f6060047",
   "metadata": {},
   "outputs": [
    {
     "data": {
      "text/plain": [
       "MultinomialNB()"
      ]
     },
     "execution_count": 20,
     "metadata": {},
     "output_type": "execute_result"
    }
   ],
   "source": [
    "classifier.fit(train_counts, train_emails.target)"
   ]
  },
  {
   "cell_type": "markdown",
   "id": "41c8e58f",
   "metadata": {},
   "source": [
    "### 13\n",
    "\n",
    "Test the Naive Bayes Classifier by printing classifier‘s .score() function. .score() takes the test set and the test labels as parameters.\n",
    "\n",
    ".score() returns the accuracy of the classifier on the test data. Accuracy measures the percentage of classifications a classifier correctly made."
   ]
  },
  {
   "cell_type": "code",
   "execution_count": 22,
   "id": "65ff19d2",
   "metadata": {},
   "outputs": [
    {
     "name": "stdout",
     "output_type": "stream",
     "text": [
      "0.9723618090452262\n"
     ]
    }
   ],
   "source": [
    "score1 = classifier.score(test_counts, test_emails.target)\n",
    "print(score1)"
   ]
  },
  {
   "cell_type": "markdown",
   "id": "5c572fce",
   "metadata": {},
   "source": [
    "### 14\n",
    "\n",
    "Our classifier does a pretty good job distinguishing between soccer emails and hockey emails. But let’s see how it does with emails about really different topics.\n",
    "\n",
    "Find where you create train_emails and test_emails. Change the categories to be ['comp.sys.ibm.pc.hardware','rec.sport.hockey'].\n",
    "\n",
    "Did your classifier do a better or worse job on these two datasets?"
   ]
  },
  {
   "cell_type": "code",
   "execution_count": 25,
   "id": "2b5a9f11",
   "metadata": {},
   "outputs": [],
   "source": [
    "def calculate_score(category_names):\n",
    "    train_emails = fetch_20newsgroups(categories=category_names, \n",
    "                                  subset='train', shuffle = True, random_state = 108)\n",
    "    test_emails = fetch_20newsgroups(categories=category_names, \n",
    "                                  subset='test', shuffle = True, random_state = 108)\n",
    "    counter = CountVectorizer()\n",
    "    counter.fit(test_emails.data + train_emails.data)\n",
    "    train_counts = counter.transform(train_emails.data)\n",
    "    test_counts = counter.transform(test_emails.data)\n",
    "    classifier = MultinomialNB()\n",
    "    classifier.fit(train_counts, train_emails.target)\n",
    "    score1 = classifier.score(test_counts, test_emails.target)\n",
    "    return score1"
   ]
  },
  {
   "cell_type": "code",
   "execution_count": 26,
   "id": "70b82e67",
   "metadata": {},
   "outputs": [
    {
     "name": "stdout",
     "output_type": "stream",
     "text": [
      "0.9974715549936789\n"
     ]
    }
   ],
   "source": [
    "score = calculate_score(['comp.sys.ibm.pc.hardware','rec.sport.hockey'])\n",
    "print(score)"
   ]
  }
 ],
 "metadata": {
  "kernelspec": {
   "display_name": "Python 3",
   "language": "python",
   "name": "python3"
  },
  "language_info": {
   "codemirror_mode": {
    "name": "ipython",
    "version": 3
   },
   "file_extension": ".py",
   "mimetype": "text/x-python",
   "name": "python",
   "nbconvert_exporter": "python",
   "pygments_lexer": "ipython3",
   "version": "3.8.8"
  }
 },
 "nbformat": 4,
 "nbformat_minor": 5
}
