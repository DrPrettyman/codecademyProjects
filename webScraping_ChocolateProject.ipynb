{
 "cells": [
  {
   "cell_type": "markdown",
   "id": "609ccaa3",
   "metadata": {},
   "source": [
    "# Web Scraping with Beautiful Soup\n",
    "\n",
    "### codecademy project with chocolate reveiws"
   ]
  },
  {
   "cell_type": "markdown",
   "id": "a2c6718b",
   "metadata": {},
   "source": [
    "You’ve found a website that has over 1700 reviews of chocolate bars from all around the world. It’s displayed in the web browser on this page.\n",
    "\n",
    "The data is displayed in a table, instead of in a csv or json. Thankfully, we have the power of BeautifulSoup that will help us transform this webpage into a DataFrame that we can manipulate and analyze.\n",
    "\n",
    "The rating scale is from 1-5, as described in this review guide. A 1 is “unpleasant” chocolate, while a 5 is a bar that transcends “beyond the ordinary limits”.\n",
    "\n",
    "Some questions we thought about when we found this dataset were: Where are the best cocoa beans grown? Which countries produce the highest-rated bars? What’s the relationship between cocoa solids percentage and rating?\n",
    "\n",
    "Can we find a way to answer these questions, or uncover more questions, using BeautifulSoup and Pandas?"
   ]
  },
  {
   "cell_type": "code",
   "execution_count": 3,
   "id": "c5f3cb71",
   "metadata": {},
   "outputs": [],
   "source": [
    "import seaborn\n",
    "from bs4 import BeautifulSoup\n",
    "import requests\n",
    "import pandas as pd\n",
    "import matplotlib.pyplot as plt\n",
    "import numpy as np"
   ]
  },
  {
   "cell_type": "markdown",
   "id": "00651ccb",
   "metadata": {},
   "source": [
    "#### Request HTML\n",
    "\n",
    "Let’s make a request to this site to get the raw HTML, which we can later turn into a BeautifulSoup object.\n",
    "The URL is: https://content.codecademy.com/courses/beautifulsoup/cacao/index.html\n",
    "You can pass this into the .get() method of the requests module to get the HTML."
   ]
  },
  {
   "cell_type": "code",
   "execution_count": 4,
   "id": "597c0998",
   "metadata": {},
   "outputs": [],
   "source": [
    "rawHTML = requests.get(\"https://content.codecademy.com/courses/beautifulsoup/cacao/index.html\")"
   ]
  },
  {
   "cell_type": "markdown",
   "id": "92e23554",
   "metadata": {},
   "source": [
    "#### Create Beautiful Soup\n",
    "\n",
    "Create a BeautifulSoup object called soup to traverse this HTML.\n",
    "Use \"html.parser\" as the parser, and the content of the response you got from your request as the document."
   ]
  },
  {
   "cell_type": "code",
   "execution_count": 6,
   "id": "db255108",
   "metadata": {},
   "outputs": [],
   "source": [
    "soup = BeautifulSoup(rawHTML.content, \"html.parser\")"
   ]
  },
  {
   "cell_type": "markdown",
   "id": "f0fbaef1",
   "metadata": {},
   "source": [
    "#### Pull out the \"Rating\" classes from the HTML table\n",
    "\n",
    "\n",
    "How many terrible chocolate bars are out there? And how many earned a perfect 5? Let’s make a histogram of this data.\n",
    "\n",
    "The first thing to do is to put all of the ratings into a list.\n",
    "\n",
    "Use a command on the soup object to get all of the tags that contain the ratings."
   ]
  },
  {
   "cell_type": "code",
   "execution_count": 14,
   "id": "580f2bc3",
   "metadata": {},
   "outputs": [
    {
     "data": {
      "image/png": "[encoded data removed]",
      "text/plain": [
       "<Figure size 432x288 with 1 Axes>"
      ]
     },
     "metadata": {
      "needs_background": "light"
     },
     "output_type": "display_data"
    }
   ],
   "source": [
    "raw_ratings = soup.find_all(attrs={\"class\": \"Rating\"})   # This gives lots of tags like <td class=\"Rating\">2.25</td>\n",
    "\n",
    "ratings = []\n",
    "for td in raw_ratings:\n",
    "  ratings.append(td.get_text())   # This takes each tag and adds the text content to a list\n",
    "\n",
    "# Now we convert each list element to a float, ignoring the first element which is the string 'Rating'.\n",
    "ratings = [float(ratings[i]) for i in range(1, len(ratings))]   \n",
    "\n",
    "# We now plot a histogram of the ratings\n",
    "plt.hist(ratings)\n",
    "plt.show()"
   ]
  },
  {
   "cell_type": "markdown",
   "id": "49420b00",
   "metadata": {},
   "source": [
    "## Which chocolatier makes the best chocolate?\n",
    "\n",
    "We want to now find the 10 most highly rated chocolatiers. One way to do this is to make a DataFrame that has the chocolate companies in one column, and the ratings in another. Then, we can do a groupby to find the ones with the highest average rating."
   ]
  },
  {
   "cell_type": "markdown",
   "id": "a4b2fff2",
   "metadata": {},
   "source": [
    "#### Pull out company names from HTML\n",
    "\n",
    "First, let’s find all the tags on the webpage that contain the company names."
   ]
  },
  {
   "cell_type": "code",
   "execution_count": 15,
   "id": "0fca83b5",
   "metadata": {},
   "outputs": [],
   "source": [
    "raw_names = soup.find_all(attrs={\"class\": \"Company\"})\n",
    "company_names = []\n",
    "for td in raw_names:\n",
    "  company_names.append(td.get_text())\n",
    "company_names = [company_names[i] for i in range(1, len(company_names))]  "
   ]
  },
  {
   "cell_type": "markdown",
   "id": "f618c2cd",
   "metadata": {},
   "source": [
    "#### Create a dataframe\n",
    "\n",
    "Create a DataFrame with a column “Company” corresponding to your companies list, and a column “Ratings” corresponding to your ratings list."
   ]
  },
  {
   "cell_type": "code",
   "execution_count": 44,
   "id": "b3a68470",
   "metadata": {},
   "outputs": [],
   "source": [
    "d = {\n",
    "    \"Company\": company_names,\n",
    "    \"Rating\": ratings\n",
    "    }\n",
    "\n",
    "choc_df = pd.DataFrame.from_dict(d)"
   ]
  },
  {
   "cell_type": "code",
   "execution_count": 25,
   "id": "fe4e1191",
   "metadata": {},
   "outputs": [
    {
     "name": "stdout",
     "output_type": "stream",
     "text": [
      "       Company  Rating\n",
      "0     A. Morin    3.75\n",
      "1     A. Morin    2.75\n",
      "2     A. Morin    3.00\n",
      "3     A. Morin    3.50\n",
      "4     A. Morin    3.50\n",
      "...        ...     ...\n",
      "1790    Zotter    3.75\n",
      "1791    Zotter    3.00\n",
      "1792    Zotter    3.50\n",
      "1793    Zotter    3.25\n",
      "1794    Zotter    3.00\n",
      "\n",
      "[1795 rows x 2 columns]\n"
     ]
    }
   ],
   "source": [
    "print(choc_df)"
   ]
  },
  {
   "cell_type": "markdown",
   "id": "61a2b1ab",
   "metadata": {},
   "source": [
    "#### Group by company name\n",
    "\n",
    "Use .groupby to group your DataFrame by Company and take the average of the grouped ratings."
   ]
  },
  {
   "cell_type": "code",
   "execution_count": 29,
   "id": "0cf71727",
   "metadata": {},
   "outputs": [
    {
     "name": "stdout",
     "output_type": "stream",
     "text": [
      "Company\n",
      "A. Morin                  3.380435\n",
      "AMMA                      3.500000\n",
      "Acalli                    3.750000\n",
      "Adi                       3.250000\n",
      "Aequare (Gianduja)        2.875000\n",
      "                            ...   \n",
      "hello cocoa               3.125000\n",
      "hexx                      3.050000\n",
      "iQ Chocolate              2.875000\n",
      "organicfair               2.850000\n",
      "twenty-four blackbirds    3.041667\n",
      "Name: Rating, Length: 416, dtype: float64\n"
     ]
    }
   ],
   "source": [
    "mean_ratings = choc_df.groupby(\"Company\").Rating.mean()\n",
    "print(mean_vals)"
   ]
  },
  {
   "cell_type": "markdown",
   "id": "e8b0c7b6",
   "metadata": {},
   "source": [
    "#### find the highest rated companies\n",
    "\n",
    "Then, use the .nlargest command to get the 10 highest rated chocolate companies. Print them out."
   ]
  },
  {
   "cell_type": "code",
   "execution_count": 30,
   "id": "b10ea8aa",
   "metadata": {},
   "outputs": [
    {
     "name": "stdout",
     "output_type": "stream",
     "text": [
      "Company\n",
      "Tobago Estate (Pralus)                  4.000000\n",
      "Heirloom Cacao Preservation (Zokoko)    3.875000\n",
      "Ocelot                                  3.875000\n",
      "Amedei                                  3.846154\n",
      "Matale                                  3.812500\n",
      "Patric                                  3.791667\n",
      "Idilio (Felchlin)                       3.775000\n",
      "Acalli                                  3.750000\n",
      "Chocola'te                              3.750000\n",
      "Christopher Morel (Felchlin)            3.750000\n",
      "Name: Rating, dtype: float64\n"
     ]
    }
   ],
   "source": [
    "ten_best = mean_ratings.nlargest(10)\n",
    "print(ten_best)"
   ]
  },
  {
   "cell_type": "markdown",
   "id": "02d7128b",
   "metadata": {},
   "source": [
    "## Is more cacao better?\n",
    "\n",
    "\n",
    "We want to see if the chocolate experts tend to rate chocolate bars with higher levels of cacao to be better than those with lower levels of cacao. It looks like the cocoa percentages are in the table under the Cocoa Percent column."
   ]
  },
  {
   "cell_type": "markdown",
   "id": "9b0e0d8f",
   "metadata": {},
   "source": [
    "#### Pull out percentages from the HTML table\n",
    "\n",
    "Using the same methods you used in the last couple of tasks, create a list that contains all of the cocoa percentages. Store each percent as an integer, after stripping off the % character."
   ]
  },
  {
   "cell_type": "code",
   "execution_count": 37,
   "id": "a3a606a4",
   "metadata": {},
   "outputs": [
    {
     "data": {
      "image/png": "[encoded data removed]",
      "text/plain": [
       "<Figure size 432x288 with 1 Axes>"
      ]
     },
     "metadata": {
      "needs_background": "light"
     },
     "output_type": "display_data"
    }
   ],
   "source": [
    "raw_pcs = soup.find_all(attrs={\"class\": \"CocoaPercent\"})\n",
    "pcs = []\n",
    "for td in raw_pcs:\n",
    "  pcs.append(td.get_text().strip('%'))   # This takes each tag and adds the text content to a list\n",
    "\n",
    "# Now we convert each list element to a float, ignoring the first element which is the string 'Cocoa Percent'.\n",
    "pcs = [float(pcs[i]) for i in range(1, len(pcs))]  \n",
    "\n",
    "# We now plot a histogram of the ratings\n",
    "plt.hist(pcs)\n",
    "plt.show()"
   ]
  },
  {
   "cell_type": "markdown",
   "id": "6aff1e5d",
   "metadata": {},
   "source": [
    "#### Add the cocoa percentages to the dataframe\n",
    "\n",
    "Add the cocoa percentages as a column called \"CocoaPercentage\" in the DataFrame that has companies and ratings in it."
   ]
  },
  {
   "cell_type": "code",
   "execution_count": 45,
   "id": "4accc212",
   "metadata": {},
   "outputs": [
    {
     "name": "stdout",
     "output_type": "stream",
     "text": [
      "       Company  Rating  Cocoa Percent\n",
      "0     A. Morin    3.75           63.0\n",
      "1     A. Morin    2.75           70.0\n",
      "2     A. Morin    3.00           70.0\n",
      "3     A. Morin    3.50           70.0\n",
      "4     A. Morin    3.50           70.0\n",
      "...        ...     ...            ...\n",
      "1790    Zotter    3.75           70.0\n",
      "1791    Zotter    3.00           65.0\n",
      "1792    Zotter    3.50           65.0\n",
      "1793    Zotter    3.25           62.0\n",
      "1794    Zotter    3.00           65.0\n",
      "\n",
      "[1795 rows x 3 columns]\n"
     ]
    }
   ],
   "source": [
    "choc_df.insert(2, \"Cocoa Percent\", pcs)\n",
    "print(choc_df)"
   ]
  },
  {
   "cell_type": "markdown",
   "id": "bc98039c",
   "metadata": {},
   "source": [
    "#### Scatter plot\n",
    "\n",
    "Make a scatterplot of ratings (your_df.Rating) vs percentage of cocoa (your_df.CocoaPercentage).\n",
    "\n",
    "Is there any correlation here? We can use some numpy commands to draw a line of best-fit over the scatterplot."
   ]
  },
  {
   "cell_type": "code",
   "execution_count": 53,
   "id": "4c3385de",
   "metadata": {},
   "outputs": [
    {
     "data": {
      "image/png": "[encoded data removed]",
      "text/plain": [
       "<Figure size 432x288 with 1 Axes>"
      ]
     },
     "metadata": {
      "needs_background": "light"
     },
     "output_type": "display_data"
    }
   ],
   "source": [
    "plt.scatter(choc_df[\"Cocoa Percent\"], choc_df[\"Rating\"])\n",
    "\n",
    "z = np.polyfit(choc_df[\"Cocoa Percent\"], choc_df[\"Rating\"], 1)\n",
    "line_function = np.poly1d(z)\n",
    "plt.plot(choc_df[\"Cocoa Percent\"], line_function(choc_df[\"Cocoa Percent\"]), \"r--\")\n",
    "\n",
    "plt.show()"
   ]
  },
  {
   "cell_type": "code",
   "execution_count": null,
   "id": "35f39a13",
   "metadata": {},
   "outputs": [],
   "source": []
  }
 ],
 "metadata": {
  "kernelspec": {
   "display_name": "Python 3",
   "language": "python",
   "name": "python3"
  },
  "language_info": {
   "codemirror_mode": {
    "name": "ipython",
    "version": 3
   },
   "file_extension": ".py",
   "mimetype": "text/x-python",
   "name": "python",
   "nbconvert_exporter": "python",
   "pygments_lexer": "ipython3",
   "version": "3.8.8"
  }
 },
 "nbformat": 4,
 "nbformat_minor": 5
}
