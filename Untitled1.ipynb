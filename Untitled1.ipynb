{
 "cells": [
  {
   "cell_type": "code",
   "execution_count": 3,
   "id": "1ad0c04d",
   "metadata": {},
   "outputs": [
    {
     "name": "stdout",
     "output_type": "stream",
     "text": [
      "0:  1\n",
      "1:  2\n",
      "2:  4\n",
      "3:  8\n",
      "4:  16\n",
      "5:  32\n",
      "6:  64\n",
      "7:  128\n",
      "8:  256\n",
      "9:  512\n",
      "10:  1024\n",
      "11:  2048\n",
      "12:  4096\n",
      "13:  8192\n",
      "14:  16384\n",
      "15:  32768\n",
      "16:  65536\n",
      "17:  131072\n",
      "18:  262144\n",
      "19:  524288\n"
     ]
    }
   ],
   "source": [
    "for i in range(20):\n",
    "    print(f\"{i}:  {2**i}\")"
   ]
  },
  {
   "cell_type": "code",
   "execution_count": 4,
   "id": "ee478f00",
   "metadata": {},
   "outputs": [
    {
     "name": "stdout",
     "output_type": "stream",
     "text": [
      "10715086071862673209484250490600018105614048117055336074437503883703510511249361224931983788156958581275946729175531468251871452856923140435984577574698574803934567774824230985421074605062371141877954182153046474983581941267398767559165543946077062914571196477686542167660429831652624386837205668069376\n"
     ]
    }
   ],
   "source": [
    "print(2**1000)"
   ]
  }
 ],
 "metadata": {
  "kernelspec": {
   "display_name": "Python 3",
   "language": "python",
   "name": "python3"
  },
  "language_info": {
   "codemirror_mode": {
    "name": "ipython",
    "version": 3
   },
   "file_extension": ".py",
   "mimetype": "text/x-python",
   "name": "python",
   "nbconvert_exporter": "python",
   "pygments_lexer": "ipython3",
   "version": "3.8.8"
  }
 },
 "nbformat": 4,
 "nbformat_minor": 5
}
