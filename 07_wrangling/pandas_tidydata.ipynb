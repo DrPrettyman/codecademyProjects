{
 "cells": [
  {
   "cell_type": "markdown",
   "id": "80b1f2ab",
   "metadata": {},
   "source": [
    "## Putting dataframe into long-form\n",
    "\n",
    "This allows us to use 'groupby' and other pandas functionality"
   ]
  },
  {
   "cell_type": "code",
   "execution_count": 1,
   "id": "c19940d1",
   "metadata": {},
   "outputs": [],
   "source": [
    "import pandas as pd"
   ]
  },
  {
   "cell_type": "code",
   "execution_count": 3,
   "id": "e4db6965",
   "metadata": {
    "scrolled": true
   },
   "outputs": [
    {
     "name": "stdout",
     "output_type": "stream",
     "text": [
      "  Observer         loc_1            loc_2            loc_3\n",
      "0      Sam  [a, b, c, d]  [e, c, f, f, e]  [a, b, b, b, b]\n",
      "1   Hannah     [d, b, b]        [e, e, f]        [f, a, a]\n",
      "2      Ted        [a, c]           [f, c]           [a, b]\n",
      "3    Alice        [a, a]           [c, c]           [b, b]\n"
     ]
    }
   ],
   "source": [
    "# make up some data\n",
    "data = {'Observer': ['Sam', 'Hannah', 'Ted', 'Alice'],\n",
    "        'loc_1': [['a', 'b', 'c', 'd'], ['d', 'b', 'b'], ['a', 'c'], ['a', 'a']],\n",
    "        'loc_2': [['e', 'c', 'f', 'f', 'e'], ['e', 'e', 'f'], ['f', 'c'], ['c', 'c']],\n",
    "        'loc_3': [['a', 'b', 'b', 'b', 'b'], ['f', 'a', 'a'], ['a', 'b'], ['b', 'b']],\n",
    "       }\n",
    "df = pd.DataFrame(data)\n",
    "print(df)"
   ]
  },
  {
   "cell_type": "code",
   "execution_count": 5,
   "id": "ed3d0f93",
   "metadata": {},
   "outputs": [
    {
     "name": "stdout",
     "output_type": "stream",
     "text": [
      "   Observer Location       Bird codes\n",
      "0       Sam    loc_1     [a, b, c, d]\n",
      "1    Hannah    loc_1        [d, b, b]\n",
      "2       Ted    loc_1           [a, c]\n",
      "3     Alice    loc_1           [a, a]\n",
      "4       Sam    loc_2  [e, c, f, f, e]\n",
      "5    Hannah    loc_2        [e, e, f]\n",
      "6       Ted    loc_2           [f, c]\n",
      "7     Alice    loc_2           [c, c]\n",
      "8       Sam    loc_3  [a, b, b, b, b]\n",
      "9    Hannah    loc_3        [f, a, a]\n",
      "10      Ted    loc_3           [a, b]\n",
      "11    Alice    loc_3           [b, b]\n"
     ]
    }
   ],
   "source": [
    "# Melt the dataframe into long-form\n",
    "df_tidy = pd.melt(df, id_vars=\"Observer\", var_name=\"Location\", value_name=\"Bird codes\")\n",
    "print(df_tidy)"
   ]
  },
  {
   "cell_type": "code",
   "execution_count": null,
   "id": "e5b4e62f",
   "metadata": {},
   "outputs": [],
   "source": []
  },
  {
   "cell_type": "markdown",
   "id": "407c0665",
   "metadata": {},
   "source": [
    "## If dataframe is \"too long\"\n",
    "\n",
    "Sometimes datasets can be too long and need to be brought to a wider form. In this case, “too long” is not referring to the overall amount of rows of individual observations in the dataset. A dataset is “too long” when a single column in the dataset represents more than one variable, thus creating extra rows despite containing the same amount of information as compared to the same dataset in tidy form. "
   ]
  },
  {
   "cell_type": "code",
   "execution_count": 11,
   "id": "685b87f1",
   "metadata": {},
   "outputs": [
    {
     "name": "stdout",
     "output_type": "stream",
     "text": [
      "   participant attribute  value\n",
      "0            1       age     24\n",
      "1            2       age     57\n",
      "2            3       age     23\n",
      "3            1    income     30\n",
      "4            2    income     60\n",
      "5            3    income     28\n"
     ]
    }
   ],
   "source": [
    "## Create Long Dataframe\n",
    "data = pd.DataFrame({\"participant\": [1,2,3,1,2,3],\n",
    "                      \"attribute\": [\"age\", \"age\", \"age\", \"income\", \"income\", \"income\"],\n",
    "                      \"value\": [24, 57, 23, 30, 60, 28]})\n",
    "## Print Dataframe\n",
    "print(data)"
   ]
  },
  {
   "cell_type": "code",
   "execution_count": 12,
   "id": "0b54bcf0",
   "metadata": {},
   "outputs": [
    {
     "name": "stdout",
     "output_type": "stream",
     "text": [
      "   participant  age  income\n",
      "0            1   24      30\n",
      "1            2   57      60\n",
      "2            3   23      28\n"
     ]
    }
   ],
   "source": [
    "data_tidy = data.pivot(index=\"participant\",\n",
    "                         columns=\"attribute\",\n",
    "                         values=\"value\").reset_index()\n",
    "data_tidy.columns.name = None\n",
    "print(data_tidy)"
   ]
  },
  {
   "cell_type": "code",
   "execution_count": null,
   "id": "94569f7f",
   "metadata": {},
   "outputs": [],
   "source": []
  },
  {
   "cell_type": "code",
   "execution_count": null,
   "id": "a4395971",
   "metadata": {},
   "outputs": [],
   "source": []
  }
 ],
 "metadata": {
  "kernelspec": {
   "display_name": "Python 3",
   "language": "python",
   "name": "python3"
  },
  "language_info": {
   "codemirror_mode": {
    "name": "ipython",
    "version": 3
   },
   "file_extension": ".py",
   "mimetype": "text/x-python",
   "name": "python",
   "nbconvert_exporter": "python",
   "pygments_lexer": "ipython3",
   "version": "3.8.8"
  }
 },
 "nbformat": 4,
 "nbformat_minor": 5
}
