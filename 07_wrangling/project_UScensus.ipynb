{
 "cells": [
  {
   "cell_type": "markdown",
   "id": "55154397",
   "metadata": {},
   "source": [
    "# Cleaning US Census Data\n",
    "\n",
    "You just got hired as a Data Analyst at the Census Bureau, which collects census data and creates interesting visualizations and insights from it.\n",
    "\n",
    "The person who had your job before you left you all the data they had for the most recent census. It is in multiple csv files. They didn’t use pandas, they would just look through these csv files manually whenever they wanted to find something. Sometimes they would copy and paste certain numbers into Excel to make charts.\n",
    "\n",
    "The thought of it makes you shiver. This is not scalable or repeatable.\n",
    "\n",
    "Your boss wants you to make some scatterplots and histograms by the end of the day. Can you get this data into pandas and into reasonable shape so that you can make these histograms?"
   ]
  },
  {
   "cell_type": "markdown",
   "id": "7e5c1ec3",
   "metadata": {},
   "source": [
    "The first visualization your boss wants you to make is a scatterplot that shows average income in a state vs proportion of women in that state.\n",
    "\n",
    "Open some of the census csv files in the navigator (click the file icon in the top left corner of the code editor and then click on any of the csv files to open them). How are they named? What kind of information do they hold? Will they help us make this graph?"
   ]
  },
  {
   "cell_type": "code",
   "execution_count": 1,
   "id": "daba7457",
   "metadata": {},
   "outputs": [],
   "source": [
    "import pandas as pd\n",
    "import numpy as np\n",
    "import matplotlib.pyplot as plt\n",
    "import glob"
   ]
  },
  {
   "cell_type": "code",
   "execution_count": 44,
   "id": "678c2b05",
   "metadata": {},
   "outputs": [],
   "source": [
    "l = [pd.read_csv(file_name) for file_name in glob.glob('states*.csv')]\n",
    "df = pd.concat(l)"
   ]
  },
  {
   "cell_type": "code",
   "execution_count": 45,
   "id": "92136826",
   "metadata": {},
   "outputs": [
    {
     "data": {
      "text/plain": [
       "False"
      ]
     },
     "execution_count": 45,
     "metadata": {},
     "output_type": "execute_result"
    }
   ],
   "source": [
    "any(df.duplicated())"
   ]
  },
  {
   "cell_type": "code",
   "execution_count": 3,
   "id": "46cb8d1a",
   "metadata": {},
   "outputs": [
    {
     "data": {
      "text/plain": [
       "Index(['Unnamed: 0', 'State', 'TotalPop', 'Hispanic', 'White', 'Black',\n",
       "       'Native', 'Asian', 'Pacific', 'Income', 'GenderPop'],\n",
       "      dtype='object')"
      ]
     },
     "execution_count": 3,
     "metadata": {},
     "output_type": "execute_result"
    }
   ],
   "source": [
    "df.columns"
   ]
  },
  {
   "cell_type": "markdown",
   "id": "120bf240",
   "metadata": {},
   "source": [
    "Look at the .columns and the .dtypes of the us_census DataFrame. Are those datatypes going to hinder you as you try to make histograms?"
   ]
  },
  {
   "cell_type": "code",
   "execution_count": 16,
   "id": "3215558f",
   "metadata": {},
   "outputs": [
    {
     "data": {
      "text/plain": [
       "Unnamed: 0     int64\n",
       "State         object\n",
       "TotalPop       int64\n",
       "Hispanic      object\n",
       "White         object\n",
       "Black         object\n",
       "Native        object\n",
       "Asian         object\n",
       "Pacific       object\n",
       "Income        object\n",
       "GenderPop     object\n",
       "dtype: object"
      ]
     },
     "execution_count": 16,
     "metadata": {},
     "output_type": "execute_result"
    }
   ],
   "source": [
    "df.dtypes"
   ]
  },
  {
   "cell_type": "markdown",
   "id": "a008fb19",
   "metadata": {},
   "source": [
    "Look at the .head() of the DataFrame so that you can understand why some of these dtypes are objects instead of integers or floats.\n",
    "\n",
    "Start to make a plan for how to convert these columns into the right types for manipulation.\n"
   ]
  },
  {
   "cell_type": "code",
   "execution_count": 17,
   "id": "944aec0a",
   "metadata": {},
   "outputs": [
    {
     "data": {
      "text/html": [
       "<div>\n",
       "<style scoped>\n",
       "    .dataframe tbody tr th:only-of-type {\n",
       "        vertical-align: middle;\n",
       "    }\n",
       "\n",
       "    .dataframe tbody tr th {\n",
       "        vertical-align: top;\n",
       "    }\n",
       "\n",
       "    .dataframe thead th {\n",
       "        text-align: right;\n",
       "    }\n",
       "</style>\n",
       "<table border=\"1\" class=\"dataframe\">\n",
       "  <thead>\n",
       "    <tr style=\"text-align: right;\">\n",
       "      <th></th>\n",
       "      <th>Unnamed: 0</th>\n",
       "      <th>State</th>\n",
       "      <th>TotalPop</th>\n",
       "      <th>Hispanic</th>\n",
       "      <th>White</th>\n",
       "      <th>Black</th>\n",
       "      <th>Native</th>\n",
       "      <th>Asian</th>\n",
       "      <th>Pacific</th>\n",
       "      <th>Income</th>\n",
       "      <th>GenderPop</th>\n",
       "    </tr>\n",
       "  </thead>\n",
       "  <tbody>\n",
       "    <tr>\n",
       "      <th>0</th>\n",
       "      <td>0</td>\n",
       "      <td>Rhode Island</td>\n",
       "      <td>1053661</td>\n",
       "      <td>13.356666666666678%</td>\n",
       "      <td>74.32541666666665%</td>\n",
       "      <td>5.68291666666667%</td>\n",
       "      <td>0.3462500000000001%</td>\n",
       "      <td>3.2474999999999983%</td>\n",
       "      <td>0.035833333333333335%</td>\n",
       "      <td>$59125.270833333336</td>\n",
       "      <td>510388M_543273F</td>\n",
       "    </tr>\n",
       "    <tr>\n",
       "      <th>1</th>\n",
       "      <td>1</td>\n",
       "      <td>South Carolina</td>\n",
       "      <td>4777576</td>\n",
       "      <td>5.056684981684991%</td>\n",
       "      <td>62.888736263736185%</td>\n",
       "      <td>28.75091575091577%</td>\n",
       "      <td>0.2923992673992673%</td>\n",
       "      <td>1.249175824175822%</td>\n",
       "      <td>0.046978021978021964%</td>\n",
       "      <td>$46296.807763401106</td>\n",
       "      <td>2322409M_2455167F</td>\n",
       "    </tr>\n",
       "    <tr>\n",
       "      <th>2</th>\n",
       "      <td>2</td>\n",
       "      <td>South Dakota</td>\n",
       "      <td>843190</td>\n",
       "      <td>3.2396396396396376%</td>\n",
       "      <td>82.50090090090092%</td>\n",
       "      <td>1.4238738738738752%</td>\n",
       "      <td>9.417567567567566%</td>\n",
       "      <td>1.0193693693693688%</td>\n",
       "      <td>0.04189189189189189%</td>\n",
       "      <td>$51805.40540540541</td>\n",
       "      <td>423477M_419713F</td>\n",
       "    </tr>\n",
       "    <tr>\n",
       "      <th>3</th>\n",
       "      <td>3</td>\n",
       "      <td>Tennessee</td>\n",
       "      <td>6499615</td>\n",
       "      <td>4.720026972353339%</td>\n",
       "      <td>73.49008766014822%</td>\n",
       "      <td>18.283816587997297%</td>\n",
       "      <td>0.22663519892110592%</td>\n",
       "      <td>1.4072825354012126%</td>\n",
       "      <td>0.04315576534052599%</td>\n",
       "      <td>$47328.083616587355</td>\n",
       "      <td>3167756M_3331859F</td>\n",
       "    </tr>\n",
       "    <tr>\n",
       "      <th>4</th>\n",
       "      <td>4</td>\n",
       "      <td>Texas</td>\n",
       "      <td>26538614</td>\n",
       "      <td>38.04673809068304%</td>\n",
       "      <td>44.687908934379145%</td>\n",
       "      <td>11.65004782858236%</td>\n",
       "      <td>0.26114405969007126%</td>\n",
       "      <td>3.6696958102161825%</td>\n",
       "      <td>0.06881576430074614%</td>\n",
       "      <td>$55874.522600500095</td>\n",
       "      <td>13171316M_13367298F</td>\n",
       "    </tr>\n",
       "  </tbody>\n",
       "</table>\n",
       "</div>"
      ],
      "text/plain": [
       "   Unnamed: 0           State  TotalPop             Hispanic  \\\n",
       "0           0    Rhode Island   1053661  13.356666666666678%   \n",
       "1           1  South Carolina   4777576   5.056684981684991%   \n",
       "2           2    South Dakota    843190  3.2396396396396376%   \n",
       "3           3       Tennessee   6499615   4.720026972353339%   \n",
       "4           4           Texas  26538614   38.04673809068304%   \n",
       "\n",
       "                 White                Black                Native  \\\n",
       "0   74.32541666666665%    5.68291666666667%   0.3462500000000001%   \n",
       "1  62.888736263736185%   28.75091575091577%   0.2923992673992673%   \n",
       "2   82.50090090090092%  1.4238738738738752%    9.417567567567566%   \n",
       "3   73.49008766014822%  18.283816587997297%  0.22663519892110592%   \n",
       "4  44.687908934379145%   11.65004782858236%  0.26114405969007126%   \n",
       "\n",
       "                 Asian                Pacific               Income  \\\n",
       "0  3.2474999999999983%  0.035833333333333335%  $59125.270833333336   \n",
       "1   1.249175824175822%  0.046978021978021964%  $46296.807763401106   \n",
       "2  1.0193693693693688%   0.04189189189189189%   $51805.40540540541   \n",
       "3  1.4072825354012126%   0.04315576534052599%  $47328.083616587355   \n",
       "4  3.6696958102161825%   0.06881576430074614%  $55874.522600500095   \n",
       "\n",
       "             GenderPop  \n",
       "0      510388M_543273F  \n",
       "1    2322409M_2455167F  \n",
       "2      423477M_419713F  \n",
       "3    3167756M_3331859F  \n",
       "4  13171316M_13367298F  "
      ]
     },
     "execution_count": 17,
     "metadata": {},
     "output_type": "execute_result"
    }
   ],
   "source": [
    "df.head()"
   ]
  },
  {
   "cell_type": "markdown",
   "id": "d04d1731",
   "metadata": {},
   "source": [
    "Use regex to turn the Income column into a format that is ready for conversion into a numerical type.\n",
    "\n",
    "Look at the GenderPop column. We are going to want to separate this into two columns, the Men column, and the Women column. Split the column into those two new columns using str.split and separating out those results. Convert both of the columns into numerical datatypes. There is still an M or an F character in each entry! We should remove those before we convert.\n",
    "\n"
   ]
  },
  {
   "cell_type": "code",
   "execution_count": 46,
   "id": "ed4444d8",
   "metadata": {},
   "outputs": [],
   "source": [
    "# Remove the '$' from the \"Income\" values and convert to numeric\n",
    "df.Income = pd.to_numeric(df.Income.replace('[\\$]','', regex=True))\n",
    "\n",
    "# For columns such as \"Hispanic\", \"White\", etc.\n",
    "# Remove the '%' from the values and convert to numeric\n",
    "for column_name in df.columns[3:9]:\n",
    "    df[column_name] = pd.to_numeric(df[column_name].replace('[\\%]','',regex=True))\n",
    "\n",
    "# retrive the Male and Female population data\n",
    "df['GenderPop'] = df['GenderPop'].replace('[MF]','',regex=True).apply(lambda s: s.split('_'))\n",
    "df['MalePop'] = pd.to_numeric(df['GenderPop'].apply(lambda l: l[0]))\n",
    "df['FemalePop'] = pd.to_numeric(df['GenderPop'].apply(lambda l: l[1]))"
   ]
  },
  {
   "cell_type": "code",
   "execution_count": 47,
   "id": "a690415d",
   "metadata": {},
   "outputs": [],
   "source": [
    "df.drop(['GenderPop'], axis=1, inplace=True)"
   ]
  },
  {
   "cell_type": "markdown",
   "id": "84a9d074",
   "metadata": {},
   "source": [
    "You want to double check your work. You know from experience that these monstrous csv files probably have nan values in them! Print out your column with the number of women per state to see.\n",
    "\n",
    "We can fill in those nans by using pandas’ .fillna() function.\n",
    "\n",
    "You have the TotalPop per state, and you have the Men per state. As an estimate for the nan values in the Women column, you could use the TotalPop of that state minus the Men for that state.\n",
    "\n",
    "Print out the Women column after filling the nan values to see if it worked!"
   ]
  },
  {
   "cell_type": "code",
   "execution_count": 48,
   "id": "a9cb7c7d",
   "metadata": {},
   "outputs": [],
   "source": [
    "df['FemalePop'].fillna(df['TotalPop'] - df['MalePop'], inplace=True)"
   ]
  },
  {
   "cell_type": "markdown",
   "id": "b8bbe820",
   "metadata": {},
   "source": [
    "Now you should have the columns you need to make the graph and make sure your boss does not slam a ruler angrily on your desk because you’ve wasted your whole day cleaning your data with no results to show!\n",
    "\n",
    "Use matplotlib to make a scatterplot!Remember to call plt.show() to see the graph!"
   ]
  },
  {
   "cell_type": "code",
   "execution_count": 49,
   "id": "70175096",
   "metadata": {},
   "outputs": [
    {
     "data": {
      "image/png": "[encoded data removed]",
      "text/plain": [
       "<Figure size 432x288 with 1 Axes>"
      ]
     },
     "metadata": {
      "needs_background": "light"
     },
     "output_type": "display_data"
    }
   ],
   "source": [
    "plt.scatter(df['FemalePop'], df['Income']) \n",
    "plt.show()"
   ]
  },
  {
   "cell_type": "code",
   "execution_count": 55,
   "id": "52765435",
   "metadata": {},
   "outputs": [
    {
     "data": {
      "image/png": "[encoded data removed]",
      "text/plain": [
       "<Figure size 432x288 with 1 Axes>"
      ]
     },
     "metadata": {
      "needs_background": "light"
     },
     "output_type": "display_data"
    }
   ],
   "source": [
    "plt.hist(df['Hispanic'], 20)\n",
    "plt.show()"
   ]
  },
  {
   "cell_type": "code",
   "execution_count": 63,
   "id": "a491f3b4",
   "metadata": {},
   "outputs": [
    {
     "data": {
      "text/html": [
       "<div>\n",
       "<style scoped>\n",
       "    .dataframe tbody tr th:only-of-type {\n",
       "        vertical-align: middle;\n",
       "    }\n",
       "\n",
       "    .dataframe tbody tr th {\n",
       "        vertical-align: top;\n",
       "    }\n",
       "\n",
       "    .dataframe thead th {\n",
       "        text-align: right;\n",
       "    }\n",
       "</style>\n",
       "<table border=\"1\" class=\"dataframe\">\n",
       "  <thead>\n",
       "    <tr style=\"text-align: right;\">\n",
       "      <th></th>\n",
       "      <th>State</th>\n",
       "      <th>Hispanic</th>\n",
       "    </tr>\n",
       "  </thead>\n",
       "  <tbody>\n",
       "    <tr>\n",
       "      <th>4</th>\n",
       "      <td>Texas</td>\n",
       "      <td>38.046738</td>\n",
       "    </tr>\n",
       "    <tr>\n",
       "      <th>3</th>\n",
       "      <td>Nevada</td>\n",
       "      <td>27.100884</td>\n",
       "    </tr>\n",
       "    <tr>\n",
       "      <th>4</th>\n",
       "      <td>Puerto Rico</td>\n",
       "      <td>98.893574</td>\n",
       "    </tr>\n",
       "    <tr>\n",
       "      <th>1</th>\n",
       "      <td>New Mexico</td>\n",
       "      <td>45.282932</td>\n",
       "    </tr>\n",
       "    <tr>\n",
       "      <th>0</th>\n",
       "      <td>Colorado</td>\n",
       "      <td>20.784380</td>\n",
       "    </tr>\n",
       "    <tr>\n",
       "      <th>4</th>\n",
       "      <td>Florida</td>\n",
       "      <td>21.338543</td>\n",
       "    </tr>\n",
       "    <tr>\n",
       "      <th>2</th>\n",
       "      <td>Arizona</td>\n",
       "      <td>29.565921</td>\n",
       "    </tr>\n",
       "    <tr>\n",
       "      <th>4</th>\n",
       "      <td>California</td>\n",
       "      <td>37.291875</td>\n",
       "    </tr>\n",
       "    <tr>\n",
       "      <th>5</th>\n",
       "      <td>Colorado</td>\n",
       "      <td>20.784380</td>\n",
       "    </tr>\n",
       "  </tbody>\n",
       "</table>\n",
       "</div>"
      ],
      "text/plain": [
       "         State   Hispanic\n",
       "4        Texas  38.046738\n",
       "3       Nevada  27.100884\n",
       "4  Puerto Rico  98.893574\n",
       "1   New Mexico  45.282932\n",
       "0     Colorado  20.784380\n",
       "4      Florida  21.338543\n",
       "2      Arizona  29.565921\n",
       "4   California  37.291875\n",
       "5     Colorado  20.784380"
      ]
     },
     "execution_count": 63,
     "metadata": {},
     "output_type": "execute_result"
    }
   ],
   "source": [
    "df[['State','Hispanic']][df['Hispanic']>20]"
   ]
  },
  {
   "cell_type": "code",
   "execution_count": 64,
   "id": "8158bd25",
   "metadata": {
    "scrolled": true
   },
   "outputs": [
    {
     "data": {
      "image/png": "[encoded data removed]",
      "text/plain": [
       "<Figure size 432x288 with 1 Axes>"
      ]
     },
     "metadata": {
      "needs_background": "light"
     },
     "output_type": "display_data"
    }
   ],
   "source": [
    "plt.hist(df['White'], 20)\n",
    "plt.show()"
   ]
  },
  {
   "cell_type": "code",
   "execution_count": 65,
   "id": "720c079b",
   "metadata": {},
   "outputs": [
    {
     "data": {
      "text/html": [
       "<div>\n",
       "<style scoped>\n",
       "    .dataframe tbody tr th:only-of-type {\n",
       "        vertical-align: middle;\n",
       "    }\n",
       "\n",
       "    .dataframe tbody tr th {\n",
       "        vertical-align: top;\n",
       "    }\n",
       "\n",
       "    .dataframe thead th {\n",
       "        text-align: right;\n",
       "    }\n",
       "</style>\n",
       "<table border=\"1\" class=\"dataframe\">\n",
       "  <thead>\n",
       "    <tr style=\"text-align: right;\">\n",
       "      <th></th>\n",
       "      <th>State</th>\n",
       "      <th>White</th>\n",
       "    </tr>\n",
       "  </thead>\n",
       "  <tbody>\n",
       "    <tr>\n",
       "      <th>4</th>\n",
       "      <td>Texas</td>\n",
       "      <td>44.687909</td>\n",
       "    </tr>\n",
       "    <tr>\n",
       "      <th>4</th>\n",
       "      <td>Puerto Rico</td>\n",
       "      <td>0.773619</td>\n",
       "    </tr>\n",
       "    <tr>\n",
       "      <th>1</th>\n",
       "      <td>New Mexico</td>\n",
       "      <td>40.697992</td>\n",
       "    </tr>\n",
       "    <tr>\n",
       "      <th>1</th>\n",
       "      <td>Hawaii</td>\n",
       "      <td>25.032278</td>\n",
       "    </tr>\n",
       "    <tr>\n",
       "      <th>3</th>\n",
       "      <td>District of Columbia</td>\n",
       "      <td>33.103911</td>\n",
       "    </tr>\n",
       "    <tr>\n",
       "      <th>4</th>\n",
       "      <td>California</td>\n",
       "      <td>40.215789</td>\n",
       "    </tr>\n",
       "  </tbody>\n",
       "</table>\n",
       "</div>"
      ],
      "text/plain": [
       "                  State      White\n",
       "4                 Texas  44.687909\n",
       "4           Puerto Rico   0.773619\n",
       "1            New Mexico  40.697992\n",
       "1                Hawaii  25.032278\n",
       "3  District of Columbia  33.103911\n",
       "4            California  40.215789"
      ]
     },
     "execution_count": 65,
     "metadata": {},
     "output_type": "execute_result"
    }
   ],
   "source": [
    "df[['State','White']][df['White']<50]"
   ]
  }
 ],
 "metadata": {
  "kernelspec": {
   "display_name": "Python 3",
   "language": "python",
   "name": "python3"
  },
  "language_info": {
   "codemirror_mode": {
    "name": "ipython",
    "version": 3
   },
   "file_extension": ".py",
   "mimetype": "text/x-python",
   "name": "python",
   "nbconvert_exporter": "python",
   "pygments_lexer": "ipython3",
   "version": "3.8.8"
  }
 },
 "nbformat": 4,
 "nbformat_minor": 5
}
