{
 "cells": [
  {
   "cell_type": "code",
   "execution_count": 2,
   "id": "bcc550e0",
   "metadata": {},
   "outputs": [],
   "source": [
    "def f1(n):\n",
    "    return (4**n + 6**n, 9**n)"
   ]
  },
  {
   "cell_type": "code",
   "execution_count": 11,
   "id": "b4e34aa7",
   "metadata": {},
   "outputs": [
    {
     "name": "stdout",
     "output_type": "stream",
     "text": [
      "(0.09027777777777778, 0.012345679012345678)\n"
     ]
    }
   ],
   "source": [
    "print(f1(-2))"
   ]
  }
 ],
 "metadata": {
  "kernelspec": {
   "display_name": "Python 3",
   "language": "python",
   "name": "python3"
  },
  "language_info": {
   "codemirror_mode": {
    "name": "ipython",
    "version": 3
   },
   "file_extension": ".py",
   "mimetype": "text/x-python",
   "name": "python",
   "nbconvert_exporter": "python",
   "pygments_lexer": "ipython3",
   "version": "3.8.8"
  }
 },
 "nbformat": 4,
 "nbformat_minor": 5
}
