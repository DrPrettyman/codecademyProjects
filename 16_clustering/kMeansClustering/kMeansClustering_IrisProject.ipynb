{
 "cells": [
  {
   "cell_type": "markdown",
   "id": "737a5581",
   "metadata": {},
   "source": [
    "# K-means Clustering"
   ]
  },
  {
   "cell_type": "markdown",
   "id": "ca5b52e7",
   "metadata": {},
   "source": [
    "## Iris Dataset\n",
    "\n",
    "Before we implement the K-means algorithm, let’s find a dataset. The sklearn package embeds some datasets and sample images. One of them is the Iris dataset.\n",
    "\n",
    "The Iris dataset consists of measurements of sepals and petals of 3 different plant species:\n",
    "\n",
    "- Iris setosa\n",
    "- Iris versicolor\n",
    "- Iris virginica\n",
    "\n",
    "The sepal is the part that encases and protects the flower when it is in the bud stage. A petal is a leaflike part that is often colorful."
   ]
  },
  {
   "cell_type": "code",
   "execution_count": 68,
   "id": "4afb8049",
   "metadata": {},
   "outputs": [],
   "source": [
    "import seaborn\n",
    "import matplotlib.pyplot as plt\n",
    "import numpy as np"
   ]
  },
  {
   "cell_type": "code",
   "execution_count": 69,
   "id": "a5779386",
   "metadata": {},
   "outputs": [],
   "source": [
    "from sklearn import datasets\n",
    "iris = datasets.load_iris()"
   ]
  },
  {
   "cell_type": "markdown",
   "id": "182ce85e",
   "metadata": {},
   "source": [
    "The features of the dataset are:\n",
    "\n",
    "- Column 0: Sepal length\n",
    "- Column 1: Sepal width\n",
    "- Column 2: Petal length\n",
    "- Column 3: Petal width\n",
    "\n",
    "The 3 species of Iris plants are what we are going to cluster later in this lesson."
   ]
  },
  {
   "cell_type": "code",
   "execution_count": 70,
   "id": "7f06bf3e",
   "metadata": {},
   "outputs": [],
   "source": [
    "# print(iris.data)"
   ]
  },
  {
   "cell_type": "code",
   "execution_count": 71,
   "id": "45379236",
   "metadata": {},
   "outputs": [],
   "source": [
    "# print(iris.target)"
   ]
  },
  {
   "cell_type": "markdown",
   "id": "fc2280da",
   "metadata": {},
   "source": [
    "It is always a good idea to read the descriptions of the data:"
   ]
  },
  {
   "cell_type": "code",
   "execution_count": 72,
   "id": "1b0a1753",
   "metadata": {},
   "outputs": [],
   "source": [
    "# print(iris.DESCR)"
   ]
  },
  {
   "cell_type": "markdown",
   "id": "2ec5d7e6",
   "metadata": {},
   "source": [
    "## Visualize Before K-Means\n",
    "\n",
    "To get a better sense of the data in the iris.data matrix, let’s visualize it!\n",
    "\n",
    "With Matplotlib, we can create a 2D scatter plot of the Iris dataset using two of its features (sepal length vs. petal length). The sepal length measurements are stored in column 0 of the matrix, and the petal length measurements are stored in column 2 of the matrix.\n",
    "\n",
    "But how do we get these values?\n",
    "\n",
    "Suppose we only want to retrieve the values that are in column 0 of a matrix, we can use the NumPy/pandas notation [:,0] like so:\n",
    "\n",
    "$\\texttt{matrix[:,0]}$\n",
    "\n",
    "$\\texttt{[:,0]}$ can be translated to $\\texttt{[all_rows , column_0]}$\n",
    "\n",
    "Once you have the measurements we need, we can make a scatter plot like this:\n",
    "\n",
    "$\\texttt{plt.scatter(x, y)}$\n",
    "$\\texttt{plt.show}$\n",
    "\n",
    "Let’s try this! But this time, plot the sepal length (column 0) vs. sepal width (column 1) instead."
   ]
  },
  {
   "cell_type": "code",
   "execution_count": 73,
   "id": "1ccc6f04",
   "metadata": {},
   "outputs": [],
   "source": [
    "samples = iris.data"
   ]
  },
  {
   "cell_type": "code",
   "execution_count": 74,
   "id": "a0d87408",
   "metadata": {},
   "outputs": [
    {
     "name": "stdout",
     "output_type": "stream",
     "text": [
      "[[5.1 3.5 1.4 0.2]\n",
      " [4.9 3.  1.4 0.2]\n",
      " [4.7 3.2 1.3 0.2]\n",
      " [4.6 3.1 1.5 0.2]\n",
      " [5.  3.6 1.4 0.2]\n",
      " [5.4 3.9 1.7 0.4]\n",
      " [4.6 3.4 1.4 0.3]\n",
      " [5.  3.4 1.5 0.2]\n",
      " [4.4 2.9 1.4 0.2]\n",
      " [4.9 3.1 1.5 0.1]\n",
      " [5.4 3.7 1.5 0.2]\n",
      " [4.8 3.4 1.6 0.2]\n",
      " [4.8 3.  1.4 0.1]\n",
      " [4.3 3.  1.1 0.1]\n",
      " [5.8 4.  1.2 0.2]\n",
      " [5.7 4.4 1.5 0.4]\n",
      " [5.4 3.9 1.3 0.4]\n",
      " [5.1 3.5 1.4 0.3]\n",
      " [5.7 3.8 1.7 0.3]\n",
      " [5.1 3.8 1.5 0.3]\n",
      " [5.4 3.4 1.7 0.2]\n",
      " [5.1 3.7 1.5 0.4]\n",
      " [4.6 3.6 1.  0.2]\n",
      " [5.1 3.3 1.7 0.5]\n",
      " [4.8 3.4 1.9 0.2]\n",
      " [5.  3.  1.6 0.2]\n",
      " [5.  3.4 1.6 0.4]\n",
      " [5.2 3.5 1.5 0.2]\n",
      " [5.2 3.4 1.4 0.2]\n",
      " [4.7 3.2 1.6 0.2]\n",
      " [4.8 3.1 1.6 0.2]\n",
      " [5.4 3.4 1.5 0.4]\n",
      " [5.2 4.1 1.5 0.1]\n",
      " [5.5 4.2 1.4 0.2]\n",
      " [4.9 3.1 1.5 0.2]\n",
      " [5.  3.2 1.2 0.2]\n",
      " [5.5 3.5 1.3 0.2]\n",
      " [4.9 3.6 1.4 0.1]\n",
      " [4.4 3.  1.3 0.2]\n",
      " [5.1 3.4 1.5 0.2]\n",
      " [5.  3.5 1.3 0.3]\n",
      " [4.5 2.3 1.3 0.3]\n",
      " [4.4 3.2 1.3 0.2]\n",
      " [5.  3.5 1.6 0.6]\n",
      " [5.1 3.8 1.9 0.4]\n",
      " [4.8 3.  1.4 0.3]\n",
      " [5.1 3.8 1.6 0.2]\n",
      " [4.6 3.2 1.4 0.2]\n",
      " [5.3 3.7 1.5 0.2]\n",
      " [5.  3.3 1.4 0.2]\n",
      " [7.  3.2 4.7 1.4]\n",
      " [6.4 3.2 4.5 1.5]\n",
      " [6.9 3.1 4.9 1.5]\n",
      " [5.5 2.3 4.  1.3]\n",
      " [6.5 2.8 4.6 1.5]\n",
      " [5.7 2.8 4.5 1.3]\n",
      " [6.3 3.3 4.7 1.6]\n",
      " [4.9 2.4 3.3 1. ]\n",
      " [6.6 2.9 4.6 1.3]\n",
      " [5.2 2.7 3.9 1.4]\n",
      " [5.  2.  3.5 1. ]\n",
      " [5.9 3.  4.2 1.5]\n",
      " [6.  2.2 4.  1. ]\n",
      " [6.1 2.9 4.7 1.4]\n",
      " [5.6 2.9 3.6 1.3]\n",
      " [6.7 3.1 4.4 1.4]\n",
      " [5.6 3.  4.5 1.5]\n",
      " [5.8 2.7 4.1 1. ]\n",
      " [6.2 2.2 4.5 1.5]\n",
      " [5.6 2.5 3.9 1.1]\n",
      " [5.9 3.2 4.8 1.8]\n",
      " [6.1 2.8 4.  1.3]\n",
      " [6.3 2.5 4.9 1.5]\n",
      " [6.1 2.8 4.7 1.2]\n",
      " [6.4 2.9 4.3 1.3]\n",
      " [6.6 3.  4.4 1.4]\n",
      " [6.8 2.8 4.8 1.4]\n",
      " [6.7 3.  5.  1.7]\n",
      " [6.  2.9 4.5 1.5]\n",
      " [5.7 2.6 3.5 1. ]\n",
      " [5.5 2.4 3.8 1.1]\n",
      " [5.5 2.4 3.7 1. ]\n",
      " [5.8 2.7 3.9 1.2]\n",
      " [6.  2.7 5.1 1.6]\n",
      " [5.4 3.  4.5 1.5]\n",
      " [6.  3.4 4.5 1.6]\n",
      " [6.7 3.1 4.7 1.5]\n",
      " [6.3 2.3 4.4 1.3]\n",
      " [5.6 3.  4.1 1.3]\n",
      " [5.5 2.5 4.  1.3]\n",
      " [5.5 2.6 4.4 1.2]\n",
      " [6.1 3.  4.6 1.4]\n",
      " [5.8 2.6 4.  1.2]\n",
      " [5.  2.3 3.3 1. ]\n",
      " [5.6 2.7 4.2 1.3]\n",
      " [5.7 3.  4.2 1.2]\n",
      " [5.7 2.9 4.2 1.3]\n",
      " [6.2 2.9 4.3 1.3]\n",
      " [5.1 2.5 3.  1.1]\n",
      " [5.7 2.8 4.1 1.3]\n",
      " [6.3 3.3 6.  2.5]\n",
      " [5.8 2.7 5.1 1.9]\n",
      " [7.1 3.  5.9 2.1]\n",
      " [6.3 2.9 5.6 1.8]\n",
      " [6.5 3.  5.8 2.2]\n",
      " [7.6 3.  6.6 2.1]\n",
      " [4.9 2.5 4.5 1.7]\n",
      " [7.3 2.9 6.3 1.8]\n",
      " [6.7 2.5 5.8 1.8]\n",
      " [7.2 3.6 6.1 2.5]\n",
      " [6.5 3.2 5.1 2. ]\n",
      " [6.4 2.7 5.3 1.9]\n",
      " [6.8 3.  5.5 2.1]\n",
      " [5.7 2.5 5.  2. ]\n",
      " [5.8 2.8 5.1 2.4]\n",
      " [6.4 3.2 5.3 2.3]\n",
      " [6.5 3.  5.5 1.8]\n",
      " [7.7 3.8 6.7 2.2]\n",
      " [7.7 2.6 6.9 2.3]\n",
      " [6.  2.2 5.  1.5]\n",
      " [6.9 3.2 5.7 2.3]\n",
      " [5.6 2.8 4.9 2. ]\n",
      " [7.7 2.8 6.7 2. ]\n",
      " [6.3 2.7 4.9 1.8]\n",
      " [6.7 3.3 5.7 2.1]\n",
      " [7.2 3.2 6.  1.8]\n",
      " [6.2 2.8 4.8 1.8]\n",
      " [6.1 3.  4.9 1.8]\n",
      " [6.4 2.8 5.6 2.1]\n",
      " [7.2 3.  5.8 1.6]\n",
      " [7.4 2.8 6.1 1.9]\n",
      " [7.9 3.8 6.4 2. ]\n",
      " [6.4 2.8 5.6 2.2]\n",
      " [6.3 2.8 5.1 1.5]\n",
      " [6.1 2.6 5.6 1.4]\n",
      " [7.7 3.  6.1 2.3]\n",
      " [6.3 3.4 5.6 2.4]\n",
      " [6.4 3.1 5.5 1.8]\n",
      " [6.  3.  4.8 1.8]\n",
      " [6.9 3.1 5.4 2.1]\n",
      " [6.7 3.1 5.6 2.4]\n",
      " [6.9 3.1 5.1 2.3]\n",
      " [5.8 2.7 5.1 1.9]\n",
      " [6.8 3.2 5.9 2.3]\n",
      " [6.7 3.3 5.7 2.5]\n",
      " [6.7 3.  5.2 2.3]\n",
      " [6.3 2.5 5.  1.9]\n",
      " [6.5 3.  5.2 2. ]\n",
      " [6.2 3.4 5.4 2.3]\n",
      " [5.9 3.  5.1 1.8]]\n"
     ]
    }
   ],
   "source": [
    "print(samples)"
   ]
  },
  {
   "cell_type": "markdown",
   "id": "bc399bbe",
   "metadata": {},
   "source": [
    "- Create a list named x that contains the column 0 values of samples.\n",
    "- Create a list named y that contains the column 2 values of samples."
   ]
  },
  {
   "cell_type": "code",
   "execution_count": 75,
   "id": "739f49f3",
   "metadata": {},
   "outputs": [],
   "source": [
    "x = samples[:, 0]\n",
    "y = samples[:, 2]"
   ]
  },
  {
   "cell_type": "code",
   "execution_count": 76,
   "id": "d275ef08",
   "metadata": {},
   "outputs": [
    {
     "data": {
      "image/png": "[encoded data removed]",
      "text/plain": [
       "<Figure size 432x288 with 1 Axes>"
      ]
     },
     "metadata": {
      "needs_background": "light"
     },
     "output_type": "display_data"
    }
   ],
   "source": [
    "plt.scatter(x, y, alpha=0.5)\n",
    "plt.show()"
   ]
  },
  {
   "cell_type": "markdown",
   "id": "b0ffb316",
   "metadata": {},
   "source": [
    "## Implementing K-Means: Step 1\n",
    "\n",
    "The K-Means algorithm:\n",
    "- Place k random centroids for the initial clusters.\n",
    "- Assign data samples to the nearest centroid.\n",
    "- Update centroids based on the above-assigned data samples.\n",
    "- Repeat Steps 2 and 3 until convergence.\n",
    "\n",
    "After looking at the scatter plot and having a better understanding of the Iris data, let’s start implementing the K-Means algorithm.\n",
    "\n",
    "In this exercise, we will implement Step 1.\n",
    "\n",
    "Because we expect there to be three clusters (for the three species of flowers), let’s implement K-Means where the k is 3.\n",
    "\n",
    "Using the NumPy library, we will create three random initial centroids and plot them along with our samples."
   ]
  },
  {
   "cell_type": "code",
   "execution_count": 95,
   "id": "e864be84",
   "metadata": {},
   "outputs": [
    {
     "name": "stdout",
     "output_type": "stream",
     "text": [
      "[[6.72844047 3.53607473 6.83329126 2.32601791]\n",
      " [7.27841981 2.48757245 5.00091975 1.83447837]\n",
      " [5.84181727 3.57201705 5.23116271 2.47264385]]\n"
     ]
    }
   ],
   "source": [
    "# Number of clusters\n",
    "k = 3\n",
    "\n",
    "# Create coordinates of k random centroids\n",
    "col_max = np.max(samples, 0)\n",
    "col_min = np.min(samples, 0)\n",
    "\n",
    "centroids = np.zeros([k, samples.shape[1]])\n",
    "\n",
    "for _j in range(k):\n",
    "    for _i in range(samples.shape[1]):\n",
    "        centroids[_j, _i] = np.random.uniform(\n",
    "            col_min[_i], col_max[_i]\n",
    "        )\n",
    "\n",
    "print(centroids)"
   ]
  },
  {
   "cell_type": "markdown",
   "id": "bac98ffd",
   "metadata": {},
   "source": [
    "## Implementing K-Means: Step 2\n",
    "\n",
    "The K-Means algorithm:\n",
    "\n",
    "- Place k random centroids for the initial clusters.\n",
    "- Assign data samples to the nearest centroid.\n",
    "- Update centroids based on the above-assigned data samples.\n",
    "- Repeat Steps 2 and 3 until convergence.\n",
    "\n",
    "In this exercise, we will implement Step 2.\n",
    "\n",
    "Now we have the three random centroids. Let’s assign data points to their nearest centroids.\n",
    "\n",
    "To do this we’re going to use a Distance Formula to write a distance() function. Then, we are going to iterate through our data samples and compute the distance from each data point to each of the 3 centroids.\n",
    "\n",
    "Suppose we have a point and a list of three distances in distances and it looks like $\\texttt{[15, 20, 5]}$, then we would want to assign the data point to the 3rd centroid. The argmin(distances) would return the index of the lowest corresponding distance, 2, because the index 2 contains the minimum value."
   ]
  },
  {
   "cell_type": "code",
   "execution_count": 100,
   "id": "711513dd",
   "metadata": {},
   "outputs": [],
   "source": [
    "# Distance formula\n",
    "def distance(a, b):\n",
    "    return sum([(i-j)**2 for i, j in zip(a,b)])**0.5\n",
    "\n",
    "# Cluster labels for each point (either 0, 1, or 2)\n",
    "labels = np.zeros(len(samples), int)\n",
    "distances = np.zeros(k)\n",
    "\n",
    "# Assign to the closest centroid\n",
    "for _i in range(len(samples)):\n",
    "    current_sample = samples[_i]\n",
    "    # Now calculate the distance from the current sample\n",
    "    # to each of the k centroids:\n",
    "    distances = [distance(centroids[_j], current_sample) for _j in range(k)]\n",
    "    labels[_i] = np.argmin(distances)"
   ]
  },
  {
   "cell_type": "code",
   "execution_count": 101,
   "id": "6542eab0",
   "metadata": {},
   "outputs": [
    {
     "name": "stdout",
     "output_type": "stream",
     "text": [
      "[2 2 2 2 2 2 2 2 2 2 2 2 2 2 1 2 2 2 2 2 2 2 2 2 2 2 2 2 2 2 2 2 2 2 2 2 1\n",
      " 2 2 2 2 2 2 2 2 2 2 2 2 2 1 1 1 1 1 2 2 2 1 2 2 2 1 1 2 1 2 1 1 1 2 1 1 1\n",
      " 1 1 1 1 2 1 1 1 1 2 2 2 1 1 2 2 2 2 1 2 2 2 2 1 2 2 2 2 1 2 2 0 2 0 1 0 2\n",
      " 1 1 2 2 2 1 0 0 1 1 2 0 1 2 0 1 2 2 1 1 0 2 1 1 0 2 2 2 1 2 1 2 0 2 1 1 1\n",
      " 2 2]\n"
     ]
    }
   ],
   "source": [
    "print(labels)"
   ]
  },
  {
   "cell_type": "markdown",
   "id": "f11b8df4",
   "metadata": {},
   "source": [
    "## Implementing K-Means: Step 3\n",
    "\n",
    "The K-Means algorithm:\n",
    "\n",
    "- Place k random centroids for the initial clusters.\n",
    "- Assign data samples to the nearest centroid.\n",
    "- Update centroids based on the above-assigned data samples.\n",
    "- Repeat Steps 2 and 3 until convergence.\n",
    "\n",
    "In this exercise, we will implement Step 3.\n",
    "\n",
    "Find new cluster centers by taking the average of the assigned points. To find the average of the assigned points, we can use the .mean() function."
   ]
  },
  {
   "cell_type": "code",
   "execution_count": 102,
   "id": "bb11e1e8",
   "metadata": {},
   "outputs": [],
   "source": [
    "from copy import deepcopy"
   ]
  },
  {
   "cell_type": "code",
   "execution_count": 104,
   "id": "10117d6b",
   "metadata": {},
   "outputs": [],
   "source": [
    "centroids_old = deepcopy(centroids)\n",
    "for _j in range(k):\n",
    "    if _j in labels:\n",
    "        points = [samples[i] for i in range(len(samples)) if labels[i] == _j]\n",
    "        centroids[_j] = np.mean(points, axis=0)\n",
    "    else:\n",
    "        for _i in range(samples.shape[1]):\n",
    "            centroids[_j, _i] = np.random.uniform(\n",
    "                col_min[_i], col_max[_i]\n",
    "            )"
   ]
  },
  {
   "cell_type": "markdown",
   "id": "f8c4343a",
   "metadata": {},
   "source": [
    "## Implementing K-Means: Step 4\n",
    "\n",
    "The K-Means algorithm:\n",
    "\n",
    "- Place k random centroids for the initial clusters.\n",
    "- Assign data samples to the nearest centroid.\n",
    "- Update centroids based on the above-assigned data samples.\n",
    "- Repeat Steps 2 and 3 until convergence.\n",
    "\n",
    "In this exercise, we will implement Step 4.\n",
    "\n",
    "This is the part of the algorithm where we repeatedly execute Step 2 and 3 until the centroids stabilize (convergence).\n",
    "\n",
    "We can do this using a while loop. And everything from Step 2 and 3 goes inside the loop.\n",
    "\n",
    "For the condition of the while loop, we need to create an array named errors. In each error index, we calculate the difference between the updated centroid (centroids) and the old centroid (centroids_old).\n",
    "\n",
    "The loop ends when all three values in errors are 0."
   ]
  },
  {
   "cell_type": "code",
   "execution_count": 105,
   "id": "58ae0854",
   "metadata": {},
   "outputs": [],
   "source": []
  },
  {
   "cell_type": "code",
   "execution_count": 106,
   "id": "1e80041b",
   "metadata": {},
   "outputs": [],
   "source": [
    "# step 1 function\n",
    "def step1():\n",
    "    # Create coordinates of k random centroids\n",
    "    centroids = np.zeros([k, samples.shape[1]])\n",
    "    for _j in range(k):\n",
    "        for _i in range(samples.shape[1]):\n",
    "            centroids[_j, _i] = np.random.uniform(\n",
    "                col_min[_i], col_max[_i]\n",
    "            )\n",
    "    return centroids"
   ]
  },
  {
   "cell_type": "code",
   "execution_count": null,
   "id": "2bd88849",
   "metadata": {},
   "outputs": [],
   "source": []
  },
  {
   "cell_type": "code",
   "execution_count": 107,
   "id": "ec4ba48b",
   "metadata": {},
   "outputs": [],
   "source": [
    "# step 2 function\n",
    "def step2(centroids):\n",
    "    # Cluster labels for each point (either 0, 1, or 2)\n",
    "    labels = np.zeros(len(samples), int)\n",
    "    distances = np.zeros(k)\n",
    "    # Assign to the closest centroid\n",
    "    for _i in range(len(samples)):\n",
    "        # Now calculate the distance from the current sample\n",
    "        # (samples[_i]) to each of the k centroids:\n",
    "        distances = [distance(centroids[_j], samples[_i]) for _j in range(k)]\n",
    "        labels[_i] = np.argmin(distances)\n",
    "    return labels"
   ]
  },
  {
   "cell_type": "code",
   "execution_count": 108,
   "id": "37d568c6",
   "metadata": {},
   "outputs": [],
   "source": [
    "# step 3 function\n",
    "def step3(centroids_old, labels):\n",
    "    centroids = np.zeros_like(centroids_old)\n",
    "    for _j in range(k):\n",
    "        if _j in labels:\n",
    "            points = [samples[i] for i in range(len(samples)) if labels[i] == _j]\n",
    "            centroids[_j] = np.mean(points, axis=0)\n",
    "        else:\n",
    "            for _i in range(samples.shape[1]):\n",
    "                centroids[_j, _i] = np.random.uniform(\n",
    "                    col_min[_i], col_max[_i]\n",
    "                )\n",
    "    return centroids"
   ]
  },
  {
   "cell_type": "code",
   "execution_count": 133,
   "id": "3ae2f0c2",
   "metadata": {},
   "outputs": [
    {
     "name": "stdout",
     "output_type": "stream",
     "text": [
      "Initial centroids:\n",
      "[[5.97122168 4.0501757  3.67153098 1.40259828]\n",
      " [4.47052492 4.16601304 2.5499625  2.40758769]\n",
      " [5.28674091 2.68904007 4.53908521 2.19035214]]\n",
      "\n",
      "After 13 iterations:\n",
      "[[5.88360656 2.74098361 4.38852459 1.43442623]\n",
      " [5.006      3.428      1.462      0.246     ]\n",
      " [6.85384615 3.07692308 5.71538462 2.05384615]]\n"
     ]
    }
   ],
   "source": [
    "# Whole thing altogether!\n",
    "k = 3\n",
    "\n",
    "col_max = np.max(samples, 0)\n",
    "col_min = np.min(samples, 0)\n",
    "\n",
    "centroids = step1()\n",
    "print(\"Initial centroids:\")\n",
    "print(centroids)\n",
    "\n",
    "error = np.ones(k)\n",
    "iterations_count = 0\n",
    "while error.any() != 0:\n",
    "    labels = step2(centroids)\n",
    "    centroids_old = deepcopy(centroids)\n",
    "    centroids = step3(centroids_old, labels)\n",
    "    for _j in range(k):\n",
    "        error[_j] = distance(centroids[_j], centroids_old[_j])\n",
    "    iterations_count += 1\n",
    "print(\"\\nAfter {} iterations:\".format(iterations_count))\n",
    "print(centroids)"
   ]
  }
 ],
 "metadata": {
  "kernelspec": {
   "display_name": "Python 3",
   "language": "python",
   "name": "python3"
  },
  "language_info": {
   "codemirror_mode": {
    "name": "ipython",
    "version": 3
   },
   "file_extension": ".py",
   "mimetype": "text/x-python",
   "name": "python",
   "nbconvert_exporter": "python",
   "pygments_lexer": "ipython3",
   "version": "3.8.8"
  }
 },
 "nbformat": 4,
 "nbformat_minor": 5
}
