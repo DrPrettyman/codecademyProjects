{
 "cells": [
  {
   "cell_type": "code",
   "execution_count": 7,
   "id": "19962561",
   "metadata": {},
   "outputs": [
    {
     "name": "stderr",
     "output_type": "stream",
     "text": [
      "/Users/joshuaprettyman/opt/anaconda3/lib/python3.8/site-packages/sklearn/cluster/_kmeans.py:984: RuntimeWarning: Explicit initial center position passed: performing only one init in KMeans instead of n_init=10.\n",
      "  self._check_params(X)\n"
     ]
    },
    {
     "data": {
      "image/png": "[encoded data removed]",
      "text/plain": [
       "<Figure size 432x288 with 1 Axes>"
      ]
     },
     "metadata": {
      "needs_background": "light"
     },
     "output_type": "display_data"
    }
   ],
   "source": [
    "import seaborn\n",
    "import matplotlib.pyplot as plt\n",
    "import numpy as np\n",
    "from sklearn import datasets\n",
    "from copy import deepcopy\n",
    "from sklearn.cluster import KMeans \n",
    "\n",
    "x = [1, 1, 4, 4]\n",
    "y = [1, 3, 1, 3]\n",
    "\n",
    "values = np.array(list(zip(x, y)))\n",
    "\n",
    "centroids_x = [2.5, 2.5]\n",
    "centroids_y = [1, 3]\n",
    "\n",
    "centroids = np.array(list(zip(centroids_x, centroids_y)))\n",
    "\n",
    "model = KMeans(init=centroids, n_clusters=2)\n",
    "\n",
    "# Initial centroids\n",
    "# plt.scatter(centroids[:, 0], centroids[:, 1], marker='D', s=100)\n",
    "\n",
    "results = model.fit_predict(values)\n",
    "\n",
    "ax = plt.subplot()\n",
    "\n",
    "ax.scatter(x, y, c=results, alpha=1)\n",
    "\n",
    "# Cluster centers\n",
    "ax.scatter(model.cluster_centers_[:, 0], model.cluster_centers_[:, 1], marker='v', s=100)\n",
    "\n",
    "\n",
    "ax.set_xticks([0, 1, 2, 3, 4, 5])\n",
    "ax.set_yticks([0, 1, 2, 3, 4])\n",
    "\n",
    "ax.set_title('Unlucky Initialization')\n",
    "plt.show()"
   ]
  },
  {
   "cell_type": "markdown",
   "id": "6633a396",
   "metadata": {},
   "source": [
    "## What is K-Means++?\n",
    "\n",
    "To recap, the Step 1 of the K-Means algorithm is “Place k random centroids for the initial clusters”.\n",
    "\n",
    "The K-Means++ algorithm replaces Step 1 of the K-Means algorithm and adds the following:\n",
    "\n",
    "- 1.1 The first cluster centroid is randomly picked from the data points.\n",
    "- 1.2 For each remaining data point, the distance from the point to its nearest cluster centroid is calculated.\n",
    "- 1.3 The next cluster centroid is picked according to a probability proportional to the distance of each point to its nearest cluster centroid. This makes it likely for the next cluster centroid to be far away from the already initialized centroids.\n",
    "- Repeat 1.2 - 1.3 until k centroids are chosen."
   ]
  },
  {
   "cell_type": "code",
   "execution_count": 8,
   "id": "a47288f6",
   "metadata": {},
   "outputs": [
    {
     "data": {
      "image/png": "[encoded data removed]",
      "text/plain": [
       "<Figure size 432x288 with 1 Axes>"
      ]
     },
     "metadata": {
      "needs_background": "light"
     },
     "output_type": "display_data"
    },
    {
     "name": "stdout",
     "output_type": "stream",
     "text": [
      "The model's inertia is 4.0\n"
     ]
    }
   ],
   "source": [
    "def warn(*args, **kwargs):\n",
    "    pass\n",
    "import warnings\n",
    "warnings.warn = warn\n",
    "import matplotlib.pyplot as plt\n",
    "import numpy as np\n",
    "from sklearn import datasets\n",
    "from copy import deepcopy\n",
    "from sklearn.cluster import KMeans \n",
    "\n",
    "x = [1, 1, 4, 4]\n",
    "y = [1, 3, 1, 3]\n",
    "\n",
    "values = np.array(list(zip(x, y)))\n",
    "\n",
    "centroids_x = [2.5, 2.5]\n",
    "centroids_y = [1, 3]\n",
    "\n",
    "centroids = np.array(list(zip(centroids_x, centroids_y)))\n",
    "\n",
    "model = KMeans(init='k-means++', n_clusters=2)\n",
    "# Initial centroids\n",
    "# plt.scatter(centroids[:, 0], centroids[:, 1], marker='D', s=100)\n",
    "\n",
    "results = model.fit_predict(values)\n",
    "\n",
    "plt.scatter(x, y, c=results, alpha=1)\n",
    "\n",
    "# Cluster centers\n",
    "plt.scatter(model.cluster_centers_[:, 0], model.cluster_centers_[:, 1], marker='v', s=100)\n",
    "\n",
    "ax = plt.subplot()\n",
    "ax.set_xticks([0, 1, 2, 3, 4, 5])\n",
    "ax.set_yticks([0, 1, 2, 3, 4])\n",
    "\n",
    "plt.title('K-Means++ Initialization')\n",
    "plt.show()\n",
    "print(\"The model's inertia is \" + str(model.inertia_))\n"
   ]
  }
 ],
 "metadata": {
  "kernelspec": {
   "display_name": "Python 3",
   "language": "python",
   "name": "python3"
  },
  "language_info": {
   "codemirror_mode": {
    "name": "ipython",
    "version": 3
   },
   "file_extension": ".py",
   "mimetype": "text/x-python",
   "name": "python",
   "nbconvert_exporter": "python",
   "pygments_lexer": "ipython3",
   "version": "3.8.8"
  }
 },
 "nbformat": 4,
 "nbformat_minor": 5
}
