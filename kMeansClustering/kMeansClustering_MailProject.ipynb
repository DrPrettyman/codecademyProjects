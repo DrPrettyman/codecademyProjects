{
 "cells": [
  {
   "cell_type": "markdown",
   "id": "e97a76a4",
   "metadata": {},
   "source": [
    "# Handwriting Recognition using K-Means\n",
    "\n",
    "The U.S. Postal Service has been using machine learning and scanning technologies since 1999. Because its postal offices have to look at roughly half a billion pieces of mail every day, they have done extensive research and developed very efficient algorithms for reading and understanding addresses. And not only the post office:\n",
    "\n",
    "ATMs can recognize handwritten bank checks\n",
    "Evernote can recognize handwritten task lists\n",
    "Expensify can recognize handwritten receipts\n",
    "But how do they do it?\n",
    "\n",
    "In this project, you will be using K-means clustering (the algorithm behind this magic) and scikit-learn to cluster images of handwritten digits."
   ]
  },
  {
   "cell_type": "code",
   "execution_count": 2,
   "id": "4dae05ce",
   "metadata": {},
   "outputs": [],
   "source": [
    "import numpy as np\n",
    "from matplotlib import pyplot as plt"
   ]
  },
  {
   "cell_type": "code",
   "execution_count": 12,
   "id": "403a6990",
   "metadata": {},
   "outputs": [],
   "source": [
    "from sklearn import datasets\n",
    "from sklearn.cluster import KMeans"
   ]
  },
  {
   "cell_type": "code",
   "execution_count": 9,
   "id": "e3d11f20",
   "metadata": {},
   "outputs": [],
   "source": [
    "digits = datasets.load_digits()\n",
    "# print(digits.DESCR)\n",
    "# print(digits.data)\n",
    "# print(digits.target)"
   ]
  },
  {
   "cell_type": "markdown",
   "id": "07e439f6",
   "metadata": {},
   "source": [
    "To visualize the data images, we need to use Matplotlib. Let’s visualize the image at index 100:"
   ]
  },
  {
   "cell_type": "code",
   "execution_count": 10,
   "id": "c6e18653",
   "metadata": {},
   "outputs": [
    {
     "data": {
      "text/plain": [
       "<Figure size 432x288 with 0 Axes>"
      ]
     },
     "metadata": {},
     "output_type": "display_data"
    },
    {
     "data": {
      "image/png": "[encoded data removed]",
      "text/plain": [
       "<Figure size 288x288 with 1 Axes>"
      ]
     },
     "metadata": {
      "needs_background": "light"
     },
     "output_type": "display_data"
    }
   ],
   "source": [
    "plt.gray() \n",
    "plt.matshow(digits.images[100])\n",
    "plt.show()"
   ]
  },
  {
   "cell_type": "markdown",
   "id": "b2e586d0",
   "metadata": {},
   "source": [
    "Is it a 4? Let’s print out the target label at index 100 to find out!"
   ]
  },
  {
   "cell_type": "code",
   "execution_count": 11,
   "id": "2b48ee90",
   "metadata": {},
   "outputs": [
    {
     "name": "stdout",
     "output_type": "stream",
     "text": [
      "4\n"
     ]
    }
   ],
   "source": [
    "print(digits.target[100]) # Yes, it's a 4"
   ]
  },
  {
   "cell_type": "markdown",
   "id": "6e05545a",
   "metadata": {},
   "source": [
    "Now we understand what we are working with. Let’s cluster the 1797 different digit images into groups.\n",
    "\n",
    "What should be the k, the number of clusters, here?\n",
    "\n",
    "Use the KMeans() method to build a model that finds k clusters."
   ]
  },
  {
   "cell_type": "code",
   "execution_count": 13,
   "id": "443bbe50",
   "metadata": {},
   "outputs": [],
   "source": [
    "k = 10\n",
    "model = KMeans(n_clusters=10, random_state=42)"
   ]
  },
  {
   "cell_type": "code",
   "execution_count": 14,
   "id": "77998081",
   "metadata": {},
   "outputs": [
    {
     "data": {
      "text/plain": [
       "KMeans(n_clusters=10, random_state=42)"
      ]
     },
     "execution_count": 14,
     "metadata": {},
     "output_type": "execute_result"
    }
   ],
   "source": [
    "model.fit(digits.data)"
   ]
  },
  {
   "cell_type": "markdown",
   "id": "37ff54d2",
   "metadata": {},
   "source": [
    "## Visualizing after K-Means:\n",
    "\n",
    "Let’s visualize all the centroids! Because data samples live in a 64-dimensional space, the centroids have values so they can be images!\n",
    "\n",
    "First, add a figure of size 8x3 using .figure().\n",
    "\n",
    "Then, add a title using .suptitle()."
   ]
  },
  {
   "cell_type": "code",
   "execution_count": 15,
   "id": "256a462d",
   "metadata": {},
   "outputs": [
    {
     "data": {
      "text/plain": [
       "Text(0.5, 0.98, 'Cluser Center Images')"
      ]
     },
     "execution_count": 15,
     "metadata": {},
     "output_type": "execute_result"
    },
    {
     "data": {
      "text/plain": [
       "<Figure size 576x216 with 0 Axes>"
      ]
     },
     "metadata": {},
     "output_type": "display_data"
    }
   ],
   "source": [
    "fig = plt.figure(figsize=(8, 3))\n",
    "fig.suptitle('Cluser Center Images', fontsize=14, fontweight='bold')"
   ]
  },
  {
   "cell_type": "code",
   "execution_count": 25,
   "id": "b87f1b9c",
   "metadata": {},
   "outputs": [
    {
     "name": "stderr",
     "output_type": "stream",
     "text": [
      "<ipython-input-25-91e06163e897>:5: MatplotlibDeprecationWarning: Adding an axes using the same arguments as a previous axes currently reuses the earlier instance.  In a future version, a new instance will always be created and returned.  Meanwhile, this warning can be suppressed, and the future behavior ensured, by passing a unique label to each axes instance.\n",
      "  ax.append(fig.add_subplot(2, 5, 1+i))\n"
     ]
    }
   ],
   "source": [
    "ax = []\n",
    "\n",
    "for i in range(10):\n",
    "  # Initialize subplots in a grid of 2X5, at i+1th position\n",
    "  ax.append(fig.add_subplot(2, 5, 1+i))\n",
    "    \n",
    "for i in range(10):\n",
    "  # Display images\n",
    "  ax[i].imshow(model.cluster_centers_[i].reshape((8, 8)), \n",
    "            cmap=plt.cm.binary)\n",
    "\n",
    "plt.show()"
   ]
  },
  {
   "cell_type": "code",
   "execution_count": 18,
   "id": "f371c74b",
   "metadata": {},
   "outputs": [],
   "source": []
  },
  {
   "cell_type": "code",
   "execution_count": null,
   "id": "8e356d42",
   "metadata": {},
   "outputs": [],
   "source": []
  },
  {
   "cell_type": "code",
   "execution_count": null,
   "id": "10f71659",
   "metadata": {},
   "outputs": [],
   "source": []
  },
  {
   "cell_type": "code",
   "execution_count": null,
   "id": "ccc3a4db",
   "metadata": {},
   "outputs": [],
   "source": []
  },
  {
   "cell_type": "code",
   "execution_count": null,
   "id": "6e36865d",
   "metadata": {},
   "outputs": [],
   "source": []
  },
  {
   "cell_type": "code",
   "execution_count": null,
   "id": "3a8a696e",
   "metadata": {},
   "outputs": [],
   "source": []
  }
 ],
 "metadata": {
  "kernelspec": {
   "display_name": "Python 3",
   "language": "python",
   "name": "python3"
  },
  "language_info": {
   "codemirror_mode": {
    "name": "ipython",
    "version": 3
   },
   "file_extension": ".py",
   "mimetype": "text/x-python",
   "name": "python",
   "nbconvert_exporter": "python",
   "pygments_lexer": "ipython3",
   "version": "3.8.8"
  }
 },
 "nbformat": 4,
 "nbformat_minor": 5
}
