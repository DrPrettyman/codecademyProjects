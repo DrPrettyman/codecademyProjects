{
 "cells": [
  {
   "cell_type": "code",
   "execution_count": 2,
   "id": "b2962729",
   "metadata": {},
   "outputs": [],
   "source": [
    "import seaborn\n",
    "import pandas as pd\n",
    "from sklearn.model_selection import train_test_split\n",
    "from sklearn.tree import DecisionTreeClassifier\n",
    "import matplotlib.pyplot as plt"
   ]
  },
  {
   "cell_type": "markdown",
   "id": "639497b6",
   "metadata": {},
   "source": [
    "### 1\n",
    "\n",
    "Let’s start by seeing what the data looks like. Begin by loading the data into a variable named flags using Panda’s pd.read_csv() function. "
   ]
  },
  {
   "cell_type": "code",
   "execution_count": 26,
   "id": "5acd4d5b",
   "metadata": {},
   "outputs": [],
   "source": [
    "flags = pd.read_csv(\"flag.data\", \n",
    "                    names = ['Name', 'Landmass', 'Zone', 'Area', 'Population', 'Language', \n",
    "                             'Religion', 'Bars', 'Stripes', 'Colors', 'Red', 'Green', 'Blue', 'Gold',\n",
    "                             'White', 'Black', 'Orange', 'Mainhue', 'Circles', 'Crosses', 'Saltires',\n",
    "                             'Quarters', 'Sunstars', 'Crescent', 'Triangle', 'Icon', 'Animate',\n",
    "                             'Text', 'Topleft', 'Botright'])"
   ]
  },
  {
   "cell_type": "markdown",
   "id": "7fd59c8e",
   "metadata": {},
   "source": [
    "### 2\n",
    "\n",
    "We’re eventually going to use create a decision tree to classify what Landmass a country is on.\n",
    "\n",
    "Create a variable named labels and set it equal to only the \"Landmass\" column from flags."
   ]
  },
  {
   "cell_type": "code",
   "execution_count": 25,
   "id": "8772718d",
   "metadata": {},
   "outputs": [],
   "source": [
    "labels = flags[[\"Landmass\"]]"
   ]
  },
  {
   "cell_type": "markdown",
   "id": "51f4c528",
   "metadata": {},
   "source": [
    "### 3 \n",
    "\n",
    "We have our labels. Now we want to choose which columns will help our decision tree correctly classify those labels.\n",
    "\n",
    "You could spend a lot of time playing with groups of columns to find the that work best. But for now, let’s see if we can predict where a country is based only on the colors of its flag.\n",
    "\n",
    "Create a variable named data and set it equal to a DataFrame containing the following columns from flags:\n",
    "\"Red\", \"Green\", \"Blue\", \"Gold\", \"White\", \"Black\", \"Orange\""
   ]
  },
  {
   "cell_type": "code",
   "execution_count": 30,
   "id": "b7181536",
   "metadata": {},
   "outputs": [],
   "source": [
    "data = flags[[\"Red\", \"Green\", \"Blue\", \"Gold\", \"White\", \"Black\", \"Orange\"]]"
   ]
  },
  {
   "cell_type": "markdown",
   "id": "67b04cfb",
   "metadata": {},
   "source": [
    "### 4\n",
    "\n",
    "Finally, let’s split these DataFrames into a training set and test set using the train_test_split() function. This function should take data and labels as parameters. Also include the parameter random_state = 1.\n",
    "\n",
    "This function returns four values. Name those values train_data, test_data, train_labels, and test_labels in that order."
   ]
  },
  {
   "cell_type": "code",
   "execution_count": 32,
   "id": "6932694b",
   "metadata": {},
   "outputs": [],
   "source": [
    "train_data, test_data, train_labels, test_labels = train_test_split(data, labels, random_state=1)"
   ]
  },
  {
   "cell_type": "markdown",
   "id": "40e8d8cd",
   "metadata": {},
   "source": [
    "### 5\n",
    "\n",
    "Create a DecisionTreeClassifier and name it tree. When you create the tree, give it the parameter random_state = 1.\n",
    "\n",
    "Call tree‘s .fit() method using train_data and train_labels to fit the tree to the training data."
   ]
  },
  {
   "cell_type": "code",
   "execution_count": 36,
   "id": "91507478",
   "metadata": {},
   "outputs": [
    {
     "data": {
      "text/plain": [
       "DecisionTreeClassifier(random_state=1)"
      ]
     },
     "execution_count": 36,
     "metadata": {},
     "output_type": "execute_result"
    }
   ],
   "source": [
    "tree = DecisionTreeClassifier(random_state=1)\n",
    "\n",
    "tree.fit(train_data, train_labels)"
   ]
  },
  {
   "cell_type": "markdown",
   "id": "a7ce8711",
   "metadata": {},
   "source": [
    "### 6\n",
    "\n",
    "\n",
    "Call .score() using test_data and test_labels. Print the result.\n",
    "\n",
    "Since there are six possible landmasses, if we randomly guessed, we’d expect to be right about 16% of the time. Did our decision tree beat randomly guessing?"
   ]
  },
  {
   "cell_type": "code",
   "execution_count": 38,
   "id": "d576eee5",
   "metadata": {},
   "outputs": [
    {
     "name": "stdout",
     "output_type": "stream",
     "text": [
      "0.3469387755102041\n"
     ]
    }
   ],
   "source": [
    "score1 = tree.score(test_data, test_labels)\n",
    "\n",
    "print(score1)"
   ]
  },
  {
   "cell_type": "markdown",
   "id": "4dee27b6",
   "metadata": {},
   "source": [
    "### 7\n",
    "\n",
    "We now have a good baseline of how our model performs with these features. Let’s see if we can prune the tree to make it better!\n",
    "\n",
    "Put your code that creates, trains, and tests the tree inside a for loop that has a variable named i that increases from 1 to 20.\n",
    "\n",
    "Inside your for loop, when you create tree, give it the parameter max_depth = i.\n",
    "\n",
    "We’ll now see a printout of how the accuracy changes depending on how large we allow the tree to be."
   ]
  },
  {
   "cell_type": "code",
   "execution_count": 43,
   "id": "c06961c9",
   "metadata": {},
   "outputs": [],
   "source": [
    "depths = list(range(1,21))\n",
    "scores = []\n",
    "for md in depths:\n",
    "    tree = DecisionTreeClassifier(random_state=1, max_depth=md)\n",
    "    tree.fit(train_data, train_labels)\n",
    "    scores.append(tree.score(test_data, test_labels))"
   ]
  },
  {
   "cell_type": "code",
   "execution_count": 52,
   "id": "ac600df0",
   "metadata": {},
   "outputs": [
    {
     "data": {
      "image/png": "[encoded data removed]",
      "text/plain": [
       "<Figure size 432x288 with 1 Axes>"
      ]
     },
     "metadata": {
      "needs_background": "light"
     },
     "output_type": "display_data"
    }
   ],
   "source": [
    "fig, ax = plt.subplots()\n",
    "ax.plot(depths, scores)\n",
    "ax.set(xlabel='max depth', ylabel='score', title='Trees are leafy')\n",
    "ax.grid()\n",
    "plt.show()"
   ]
  },
  {
   "cell_type": "markdown",
   "id": "a110f59f",
   "metadata": {},
   "source": [
    "### 8\n",
    "\n",
    "Our graph doesn’t really look like we would expect it to. It seems like the depth of the tree isn’t really having an impact on its performance. This might be a good indication that we’re not using enough features.\n",
    "\n",
    "Let’s add all the features that have to do with shapes to our data. data should now be set equal to:\n",
    "\n",
    "flags[[\"Red\", \"Green\", \"Blue\", \"Gold\", \"White\", \"Black\", \"Orange\", \"Circles\", \"Crosses\",\"Saltires\",\"Quarters\",\"Sunstars\", \"Crescent\",\"Triangle\"]]\n",
    "\n",
    "What does your graph look like after making this change?"
   ]
  },
  {
   "cell_type": "code",
   "execution_count": 78,
   "id": "ee16f03f",
   "metadata": {},
   "outputs": [],
   "source": [
    "# First we put all the previous steps into a function\n",
    "def create_tree(df, label_names, feature_names):\n",
    "    labels = df[label_names]\n",
    "    data = df[feature_names]\n",
    "    train_data, test_data, train_labels, test_labels = train_test_split(data, labels, random_state=1)\n",
    "    \n",
    "    depths = list(range(1,21))\n",
    "    scores = []\n",
    "    for md in depths:\n",
    "        tree = DecisionTreeClassifier(random_state=1, max_depth=md)\n",
    "        tree.fit(train_data, train_labels)\n",
    "        scores.append(tree.score(test_data, test_labels))\n",
    "    \n",
    "    best_score = max(scores)\n",
    "    best_score_index = scores.index(best_score)\n",
    "    best_depth = depths[best_score_index]\n",
    "    print(\"Best score is {s}, using max depth of {d}\".format(s=best_score, d=best_depth))\n",
    "    \n",
    "    fig, ax = plt.subplots()\n",
    "    ax.plot(depths, scores)\n",
    "    ax.set(xlabel='max depth', ylabel='score', title='Trees are leafy')\n",
    "    ax.grid()\n",
    "    plt.show()\n",
    "    \n",
    "    best_tree = DecisionTreeClassifier(random_state=1, max_depth=best_depth)\n",
    "    return best_tree"
   ]
  },
  {
   "cell_type": "code",
   "execution_count": 79,
   "id": "0b057626",
   "metadata": {},
   "outputs": [
    {
     "name": "stdout",
     "output_type": "stream",
     "text": [
      "Best score is 0.5510204081632653, using max depth of 4\n"
     ]
    },
    {
     "data": {
      "image/png": "[encoded data removed]",
      "text/plain": [
       "<Figure size 432x288 with 1 Axes>"
      ]
     },
     "metadata": {
      "needs_background": "light"
     },
     "output_type": "display_data"
    }
   ],
   "source": [
    "# Now inspect the trees created using \n",
    "feature_names = [\"Red\", \"Green\", \"Blue\", \"Gold\", \"White\", \"Black\", \"Orange\", \n",
    "                 \"Circles\", \"Crosses\",\"Saltires\",\"Quarters\",\"Sunstars\", \"Crescent\", \"Triangle\"]\n",
    "new_tree = create_tree(flags, [\"Landmass\"], feature_names)"
   ]
  }
 ],
 "metadata": {
  "kernelspec": {
   "display_name": "Python 3",
   "language": "python",
   "name": "python3"
  },
  "language_info": {
   "codemirror_mode": {
    "name": "ipython",
    "version": 3
   },
   "file_extension": ".py",
   "mimetype": "text/x-python",
   "name": "python",
   "nbconvert_exporter": "python",
   "pygments_lexer": "ipython3",
   "version": "3.8.8"
  }
 },
 "nbformat": 4,
 "nbformat_minor": 5
}
