{
 "cells": [
  {
   "cell_type": "code",
   "execution_count": 77,
   "id": "565af4dc",
   "metadata": {},
   "outputs": [],
   "source": [
    "import seaborn\n",
    "import matplotlib.pyplot as plt\n",
    "import pandas as pd\n",
    "from sklearn.svm import SVC\n",
    "from sklearn.model_selection import train_test_split\n",
    "\n",
    "def make_meshgrid(ax, h=.02):\n",
    "    # x_min, x_max = x.min() - 1, x.max() + 1\n",
    "    # y_min, y_max = y.min() - 1, y.max() + 1\n",
    "    x_min, x_max = ax.get_xlim()\n",
    "    y_min, y_max = ax.get_ylim()\n",
    "\n",
    "    xx, yy = np.meshgrid(np.arange(x_min, x_max, h),\n",
    "                         np.arange(y_min, y_max, h))\n",
    "    return xx, yy\n",
    "\n",
    "\n",
    "def plot_contours(ax, clf, xx, yy, **params):\n",
    "    Z = clf.predict(np.c_[xx.ravel(), yy.ravel()])\n",
    "    Z = Z.reshape(xx.shape)\n",
    "    out = ax.contourf(xx, yy, Z, **params)\n",
    "    return out\n",
    "\n",
    "\n",
    "def draw_boundary(ax, clf):\n",
    "\n",
    "    xx, yy = make_meshgrid(ax)\n",
    "    return plot_contours(ax, clf, xx, yy,cmap=plt.cm.coolwarm, alpha=0.5)"
   ]
  },
  {
   "cell_type": "code",
   "execution_count": 32,
   "id": "96619047",
   "metadata": {},
   "outputs": [],
   "source": [
    "# We are using the 'pybaseball' python package found at https://github.com/jldbc/pybaseball\n",
    "from pybaseball import playerid_lookup\n",
    "from pybaseball import statcast_pitcher \n",
    "from pybaseball import statcast_batter"
   ]
  },
  {
   "cell_type": "code",
   "execution_count": 12,
   "id": "2f735213",
   "metadata": {},
   "outputs": [
    {
     "data": {
      "text/html": [
       "<div>\n",
       "<style scoped>\n",
       "    .dataframe tbody tr th:only-of-type {\n",
       "        vertical-align: middle;\n",
       "    }\n",
       "\n",
       "    .dataframe tbody tr th {\n",
       "        vertical-align: top;\n",
       "    }\n",
       "\n",
       "    .dataframe thead th {\n",
       "        text-align: right;\n",
       "    }\n",
       "</style>\n",
       "<table border=\"1\" class=\"dataframe\">\n",
       "  <thead>\n",
       "    <tr style=\"text-align: right;\">\n",
       "      <th></th>\n",
       "      <th>name_last</th>\n",
       "      <th>name_first</th>\n",
       "      <th>key_mlbam</th>\n",
       "      <th>key_retro</th>\n",
       "      <th>key_bbref</th>\n",
       "      <th>key_fangraphs</th>\n",
       "      <th>mlb_played_first</th>\n",
       "      <th>mlb_played_last</th>\n",
       "    </tr>\n",
       "  </thead>\n",
       "  <tbody>\n",
       "    <tr>\n",
       "      <th>0</th>\n",
       "      <td>ortiz</td>\n",
       "      <td>david</td>\n",
       "      <td>120074</td>\n",
       "      <td>ortid001</td>\n",
       "      <td>ortizda01</td>\n",
       "      <td>745</td>\n",
       "      <td>1997.0</td>\n",
       "      <td>2016.0</td>\n",
       "    </tr>\n",
       "  </tbody>\n",
       "</table>\n",
       "</div>"
      ],
      "text/plain": [
       "  name_last name_first  key_mlbam key_retro  key_bbref  key_fangraphs  \\\n",
       "0     ortiz      david     120074  ortid001  ortizda01            745   \n",
       "\n",
       "   mlb_played_first  mlb_played_last  \n",
       "0            1997.0           2016.0  "
      ]
     },
     "execution_count": 12,
     "metadata": {},
     "output_type": "execute_result"
    }
   ],
   "source": [
    "playerid_lookup('judge', 'aaron')\n",
    "# we find the MLBAM key for Aaron Judge is 592450\n",
    "\n",
    "playerid_lookup('altuve', 'jose')\n",
    "# we find the MLBAM key for Jose Altuve is 514888\n",
    "\n",
    "playerid_lookup('ortiz', 'david')\n",
    "# we find the MLBAM key for David Ortiz is 120074"
   ]
  },
  {
   "cell_type": "code",
   "execution_count": 55,
   "id": "48086051",
   "metadata": {},
   "outputs": [
    {
     "name": "stdout",
     "output_type": "stream",
     "text": [
      "Gathering Player Data\n",
      "Gathering Player Data\n",
      "Gathering Player Data\n"
     ]
    }
   ],
   "source": [
    "aaron_judge = statcast_batter('2017-03-31', '2017-10-01', 592450)\n",
    "jose_altuve = statcast_batter('2017-03-31', '2017-10-01', 514888)\n",
    "david_ortiz = statcast_batter('2017-03-31', '2017-10-01', 120074)"
   ]
  },
  {
   "cell_type": "markdown",
   "id": "f84ebb4b",
   "metadata": {},
   "source": [
    "## 1\n",
    "\n",
    "We’ve imported several DataFrames related to some of baseball’s biggest stars. We have data on Aaron Judge and Jose Altuve. Judge is one of the tallest players in the league and Altuve is one of the shortest. Their strike zones should be pretty different!\n",
    "\n",
    "Each row in these DataFrames corresponds to a single pitch that the batter saw in the 2017 season. To begin, let’s take a look at all of the features of a pitch. Print aaron_judge.columns."
   ]
  },
  {
   "cell_type": "markdown",
   "id": "d6ba6a84",
   "metadata": {},
   "source": [
    "## 2\n",
    "\n",
    "Some of these features have obscure names. Let’s learn what the feature description means.\n",
    "\n",
    "Print aaron_judge.description.unique() to see the different values the description feature could have."
   ]
  },
  {
   "cell_type": "code",
   "execution_count": 57,
   "id": "8b734c3f",
   "metadata": {},
   "outputs": [
    {
     "data": {
      "text/plain": [
       "array(['hit_into_play', 'ball', 'called_strike', 'swinging_strike',\n",
       "       'foul', 'blocked_ball', 'swinging_strike_blocked', 'foul_tip',\n",
       "       'hit_by_pitch'], dtype=object)"
      ]
     },
     "execution_count": 57,
     "metadata": {},
     "output_type": "execute_result"
    }
   ],
   "source": [
    "aaron_judge.description.unique()"
   ]
  },
  {
   "cell_type": "markdown",
   "id": "0a17bca6",
   "metadata": {},
   "source": [
    "## 3\n",
    "\n",
    "We’re interested in looking at whether a pitch was a ball or a strike. That information is stored in the type feature. Look at the unique values stored in the type feature to get a sense of how balls and strikes are recorded."
   ]
  },
  {
   "cell_type": "code",
   "execution_count": 58,
   "id": "59778319",
   "metadata": {},
   "outputs": [
    {
     "data": {
      "text/plain": [
       "array(['X', 'B', 'S'], dtype=object)"
      ]
     },
     "execution_count": 58,
     "metadata": {},
     "output_type": "execute_result"
    }
   ],
   "source": [
    "aaron_judge.type.unique()"
   ]
  },
  {
   "cell_type": "markdown",
   "id": "fc78579d",
   "metadata": {},
   "source": [
    "## 4\n",
    "\n",
    "Great! We know every row’s type feature is either an 'S' for a strike, a 'B' for a ball, or an 'X' for neither (for example, an 'X' could be a hit or an out).\n",
    "\n",
    "We’ll want to use this feature as the label of our data points. However, instead of using strings, it will be easier if we change every 'S' to a 1 and every 'B' to a 0.\n",
    "\n",
    "You can change the values of a DataFrame column using the map() functions. For example, in the code below, every 'A' in example_column is changed to a 1, and every 'B' is changed to a 2."
   ]
  },
  {
   "cell_type": "code",
   "execution_count": 59,
   "id": "0f580953",
   "metadata": {},
   "outputs": [],
   "source": [
    "aaron_judge['type'] = aaron_judge['type'].map({'S':1, 'B':0})"
   ]
  },
  {
   "cell_type": "markdown",
   "id": "9debddcb",
   "metadata": {},
   "source": [
    "## 5\n",
    "\n",
    "Let’s make sure that worked. Print the type column from the aaron_judge DataFrame."
   ]
  },
  {
   "cell_type": "code",
   "execution_count": 60,
   "id": "226f631e",
   "metadata": {},
   "outputs": [
    {
     "data": {
      "text/plain": [
       "array([nan,  0.,  1.])"
      ]
     },
     "execution_count": 60,
     "metadata": {},
     "output_type": "execute_result"
    }
   ],
   "source": [
    "aaron_judge.type.unique()"
   ]
  },
  {
   "cell_type": "markdown",
   "id": "60803442",
   "metadata": {},
   "source": [
    "## 6\n",
    "\n",
    "There were some NaNs in there. We’ll take care of those in a second. For now, let’s look at the other features we’re interested in.\n",
    "\n",
    "We want to predict whether a pitch is a ball or a strike based on its location over the plate. You can find the ball’s location in the columns plate_x and plate_z.\n",
    "\n",
    "Print aaron_judge['plate_x'] to see what that column looks like.\n",
    "\n",
    "plate_x measures how far left or right the pitch is from the center of home plate. If plate_x = 0, that means the pitch was directly in the middle of the home plate."
   ]
  },
  {
   "cell_type": "code",
   "execution_count": 61,
   "id": "ca18d038",
   "metadata": {},
   "outputs": [
    {
     "name": "stdout",
     "output_type": "stream",
     "text": [
      "0      -0.43\n",
      "1       0.89\n",
      "2       1.40\n",
      "3       1.52\n",
      "4       0.08\n",
      "        ... \n",
      "2984   -0.16\n",
      "2985    0.07\n",
      "2986    0.50\n",
      "2987    1.78\n",
      "2988    0.72\n",
      "Name: plate_x, Length: 2989, dtype: float64\n"
     ]
    }
   ],
   "source": [
    "print(aaron_judge['plate_x'])"
   ]
  },
  {
   "cell_type": "markdown",
   "id": "e95eee63",
   "metadata": {},
   "source": [
    "## 7\n",
    "\n",
    "We now have the three columns we want to work with: 'plate_x', 'plate_z', and 'type'.\n",
    "\n",
    "Let’s remove every row that has a NaN in any of those columns.\n",
    "\n",
    "You can do this by calling the dropna function. This function can take a parameter named subset which should be a list of the columns you’re interested in.\n",
    "\n",
    "For example, the following code drops all of the NaN values from the columns 'A', 'B', and 'C'.\n",
    "data_frame = data_frame.dropna(subset = ['A', 'B', 'C'])"
   ]
  },
  {
   "cell_type": "code",
   "execution_count": 62,
   "id": "b90ec31f",
   "metadata": {},
   "outputs": [],
   "source": [
    "aaron_judge = aaron_judge.dropna(subset=['plate_x', 'plate_z', 'type'])"
   ]
  },
  {
   "cell_type": "markdown",
   "id": "f1014988",
   "metadata": {},
   "source": [
    "## 8\n",
    "\n",
    "We now have points to plot using Matplotlib. Call plt.scatter() using five parameters:\n",
    "\n",
    "The parameter x should be the plate_x column.\n",
    "The parameter y should be the plate_z column.\n",
    "To color the points correctly, the parameter c should be the type column.\n",
    "To make the strikes red and the balls blue, set the cmap parameter to plt.cm.coolwarm.\n",
    "To make the points slightly transparent, set the alpha parameter to 0.25.\n",
    "Call plt.show() to see your graph.\n",
    "\n",
    "plate_z measures how high off the ground the pitch was. If plate_z = 0, that means the pitch was at ground level when it got to the home plate."
   ]
  },
  {
   "cell_type": "code",
   "execution_count": 82,
   "id": "43ba9f6c",
   "metadata": {},
   "outputs": [
    {
     "data": {
      "image/png": "[encoded data removed]",
      "text/plain": [
       "<Figure size 432x288 with 1 Axes>"
      ]
     },
     "metadata": {
      "needs_background": "light"
     },
     "output_type": "display_data"
    }
   ],
   "source": [
    "plt.scatter(aaron_judge['plate_x'], aaron_judge['plate_z'], \n",
    "            c=aaron_judge['type'], cmap=plt.cm.coolwarm)\n",
    "plt.show()"
   ]
  },
  {
   "cell_type": "code",
   "execution_count": null,
   "id": "b23cc249",
   "metadata": {},
   "outputs": [],
   "source": []
  },
  {
   "cell_type": "markdown",
   "id": "8df3c13b",
   "metadata": {},
   "source": [
    "## 9\n",
    "\n",
    "Now that we’ve seen the location of every pitch, let’s create an SVM to create a decision boundary. This decision boundary will be the real strike zone for that player. For this section, make sure to write all of your code below the call to the scatter function but above the show function.\n",
    "\n",
    "To begin, we want to validate our model, so we need to split the data into a training set and a validation set.\n",
    "\n",
    "Call the train_test_split function using aaron_judge as a parameter.\n",
    "\n",
    "Set the parameter random_state equal to 1 to ensure your data is split in the same way as our solution code.\n",
    "\n",
    "This function returns two objects. Store the return values in variables named training_set and validation_set."
   ]
  },
  {
   "cell_type": "code",
   "execution_count": 70,
   "id": "26ed6243",
   "metadata": {},
   "outputs": [],
   "source": [
    "X_train, X_test, y_train, y_test = train_test_split(\n",
    "    aaron_judge[['plate_x', 'plate_z']], aaron_judge['type'],\n",
    "    test_size=0.2, random_state=1)"
   ]
  },
  {
   "cell_type": "markdown",
   "id": "f2651117",
   "metadata": {},
   "source": [
    "## 10\n",
    "\n",
    "Next, create an SVC named classifier with kernel = 'rbf'. For right now, don’t worry about setting the C or gamma parameters."
   ]
  },
  {
   "cell_type": "code",
   "execution_count": 72,
   "id": "5f83057a",
   "metadata": {},
   "outputs": [],
   "source": [
    "classifier = SVC(kernel='rbf')"
   ]
  },
  {
   "cell_type": "markdown",
   "id": "2686a1a4",
   "metadata": {},
   "source": [
    "## 11\n",
    "\n",
    "Call classifier‘s .fit() method. This method should take two parameters:\n",
    "\n",
    "The training data. This is the plate_x column and the plate_z column in training_set.\n",
    "The labels. This is the type column in training_set.\n",
    "The code below shows and example of selecting two columns from a DataFrame:\n",
    "two_columns = data_frame[['A', 'B']]"
   ]
  },
  {
   "cell_type": "code",
   "execution_count": 74,
   "id": "93cf5847",
   "metadata": {},
   "outputs": [
    {
     "data": {
      "text/plain": [
       "SVC()"
      ]
     },
     "execution_count": 74,
     "metadata": {},
     "output_type": "execute_result"
    }
   ],
   "source": [
    "classifier.fit(X_train, y_train)"
   ]
  },
  {
   "cell_type": "markdown",
   "id": "8ae61e26",
   "metadata": {},
   "source": [
    "## 12\n",
    "\n",
    "To visualize the SVM, call the draw_boundary function. This is a function that we wrote ourselves - you won’t find it in scikit-learn.\n",
    "\n",
    "This function takes two parameters:\n",
    "\n",
    "The axes of your graph and the trained SVM. For us, this is classifier. Make sure you’ve called .fit() before trying to visualize the decision boundary.\n",
    "Run your code to see the predicted strike zone!\n",
    "\n",
    "Note that the decision boundary will be drawn based on the size of the current axes. So if you call draw_boundary before calling scatter function, you will only see the boundary as a small square.\n",
    "\n",
    "To get around this, you could manually set the size of the axes by using something likeax.set_ylim(-2, 2) before calling draw_boundary."
   ]
  },
  {
   "cell_type": "code",
   "execution_count": 81,
   "id": "b801b5a6",
   "metadata": {},
   "outputs": [
    {
     "data": {
      "image/png": "[encoded data removed]",
      "text/plain": [
       "<Figure size 432x288 with 1 Axes>"
      ]
     },
     "metadata": {
      "needs_background": "light"
     },
     "output_type": "display_data"
    }
   ],
   "source": [
    "fig, ax = plt.subplots()\n",
    "ax.scatter(aaron_judge['plate_x'], aaron_judge['plate_z'], \n",
    "           c=aaron_judge['type'], cmap=plt.cm.coolwarm)\n",
    "draw_boundary(ax, classifier)\n",
    "plt.show()"
   ]
  },
  {
   "cell_type": "markdown",
   "id": "df197059",
   "metadata": {},
   "source": [
    "## 13\n",
    "\n",
    "Nice work! We’re now able to see the strike zone. But we don’t know how accurate our classifier is yet. Let’s find its accuracy by calling the .score() method and printing the results.\n",
    "\n",
    ".score() takes two parameters — the points in the validation set and the labels associated with those points.\n",
    "\n",
    "These two parameters should be very similar to the parameters used in .fit()."
   ]
  },
  {
   "cell_type": "code",
   "execution_count": 85,
   "id": "d064ca9f",
   "metadata": {},
   "outputs": [
    {
     "name": "stdout",
     "output_type": "stream",
     "text": [
      "0.819047619047619\n"
     ]
    }
   ],
   "source": [
    "score_judge = classifier.score(X_test, y_test)\n",
    "print(score_judge)"
   ]
  },
  {
   "cell_type": "markdown",
   "id": "e820860f",
   "metadata": {},
   "source": [
    "## 14\n",
    "\n",
    "Let’s change some of the SVM’s parameters to see if we can get better accuracy.\n",
    "\n",
    "Set the parameters of the SVM to be gamma = 100 and C = 100.\n",
    "\n",
    "This will overfit the data, but it will be a good place to start. Run the code to see the overfitted decision boundary. What’s the new accuracy?"
   ]
  },
  {
   "cell_type": "code",
   "execution_count": 100,
   "id": "8a703a97",
   "metadata": {},
   "outputs": [
    {
     "name": "stdout",
     "output_type": "stream",
     "text": [
      "0.7409523809523809\n"
     ]
    }
   ],
   "source": [
    "classifier = SVC(kernel='rbf', gamma = 100, C = 100)\n",
    "classifier.fit(X_train, y_train)\n",
    "score_judge = classifier.score(X_test, y_test)\n",
    "print(score_judge)"
   ]
  },
  {
   "cell_type": "markdown",
   "id": "0fe2817c",
   "metadata": {},
   "source": [
    "## 15\n",
    "\n",
    "Try to find a configuration of gamma and C that greatly improves the accuracy. You may want to use nested for loops.\n",
    "\n",
    "Loop through different values of gamma and C and print the accuracy using those parameters. Our best SVM had an accuracy of 83.41%. Can you beat ours?"
   ]
  },
  {
   "cell_type": "code",
   "execution_count": 108,
   "id": "3bd0603f",
   "metadata": {},
   "outputs": [
    {
     "name": "stdout",
     "output_type": "stream",
     "text": [
      "[0.01, 1, 0.7238095238095238]\n",
      "[0.01, 11, 0.7771428571428571]\n",
      "[0.01, 21, 0.7885714285714286]\n",
      "[0.01, 31, 0.7961904761904762]\n",
      "[0.01, 41, 0.7980952380952381]\n",
      "[0.01, 51, 0.7980952380952381]\n",
      "[0.01, 61, 0.8]\n",
      "[0.01, 71, 0.8019047619047619]\n",
      "[0.01, 81, 0.8019047619047619]\n",
      "[0.01, 91, 0.8038095238095239]\n",
      "[0.027825594022071243, 1, 0.7695238095238095]\n",
      "[0.027825594022071243, 11, 0.8038095238095239]\n",
      "[0.027825594022071243, 21, 0.8]\n",
      "[0.027825594022071243, 31, 0.8019047619047619]\n",
      "[0.027825594022071243, 41, 0.8]\n",
      "[0.027825594022071243, 51, 0.8057142857142857]\n",
      "[0.027825594022071243, 61, 0.8076190476190476]\n",
      "[0.027825594022071243, 71, 0.8057142857142857]\n",
      "[0.027825594022071243, 81, 0.8095238095238095]\n",
      "[0.027825594022071243, 91, 0.8095238095238095]\n",
      "[0.0774263682681127, 1, 0.7980952380952381]\n",
      "[0.0774263682681127, 11, 0.8076190476190476]\n",
      "[0.0774263682681127, 21, 0.8095238095238095]\n",
      "[0.0774263682681127, 31, 0.8114285714285714]\n",
      "[0.0774263682681127, 41, 0.8114285714285714]\n",
      "[0.0774263682681127, 51, 0.8095238095238095]\n",
      "[0.0774263682681127, 61, 0.8095238095238095]\n",
      "[0.0774263682681127, 71, 0.8076190476190476]\n",
      "[0.0774263682681127, 81, 0.8095238095238095]\n",
      "[0.0774263682681127, 91, 0.8114285714285714]\n",
      "[0.21544346900318834, 1, 0.8114285714285714]\n",
      "[0.21544346900318834, 11, 0.819047619047619]\n",
      "[0.21544346900318834, 21, 0.8171428571428572]\n",
      "[0.21544346900318834, 31, 0.819047619047619]\n",
      "[0.21544346900318834, 41, 0.8171428571428572]\n",
      "[0.21544346900318834, 51, 0.819047619047619]\n",
      "[0.21544346900318834, 61, 0.819047619047619]\n",
      "[0.21544346900318834, 71, 0.819047619047619]\n",
      "[0.21544346900318834, 81, 0.819047619047619]\n",
      "[0.21544346900318834, 91, 0.819047619047619]\n",
      "[0.5994842503189409, 1, 0.820952380952381]\n",
      "[0.5994842503189409, 11, 0.8285714285714286]\n",
      "[0.5994842503189409, 21, 0.8228571428571428]\n",
      "[0.5994842503189409, 31, 0.8171428571428572]\n",
      "[0.5994842503189409, 41, 0.8171428571428572]\n",
      "[0.5994842503189409, 51, 0.8171428571428572]\n",
      "[0.5994842503189409, 61, 0.8133333333333334]\n",
      "[0.5994842503189409, 71, 0.8133333333333334]\n",
      "[0.5994842503189409, 81, 0.8095238095238095]\n",
      "[0.5994842503189409, 91, 0.8095238095238095]\n",
      "[1.6681005372000592, 1, 0.8285714285714286]\n",
      "[1.6681005372000592, 11, 0.819047619047619]\n",
      "[1.6681005372000592, 21, 0.819047619047619]\n",
      "[1.6681005372000592, 31, 0.8171428571428572]\n",
      "[1.6681005372000592, 41, 0.819047619047619]\n",
      "[1.6681005372000592, 51, 0.819047619047619]\n",
      "[1.6681005372000592, 61, 0.8171428571428572]\n",
      "[1.6681005372000592, 71, 0.8152380952380952]\n",
      "[1.6681005372000592, 81, 0.8133333333333334]\n",
      "[1.6681005372000592, 91, 0.8114285714285714]\n",
      "[4.6415888336127775, 1, 0.8228571428571428]\n",
      "[4.6415888336127775, 11, 0.820952380952381]\n",
      "[4.6415888336127775, 21, 0.8171428571428572]\n",
      "[4.6415888336127775, 31, 0.8152380952380952]\n",
      "[4.6415888336127775, 41, 0.8152380952380952]\n",
      "[4.6415888336127775, 51, 0.8171428571428572]\n",
      "[4.6415888336127775, 61, 0.8171428571428572]\n",
      "[4.6415888336127775, 71, 0.8152380952380952]\n",
      "[4.6415888336127775, 81, 0.8171428571428572]\n",
      "[4.6415888336127775, 91, 0.819047619047619]\n",
      "[12.915496650148826, 1, 0.8133333333333334]\n",
      "[12.915496650148826, 11, 0.8076190476190476]\n",
      "[12.915496650148826, 21, 0.8]\n",
      "[12.915496650148826, 31, 0.7942857142857143]\n",
      "[12.915496650148826, 41, 0.7942857142857143]\n",
      "[12.915496650148826, 51, 0.8]\n",
      "[12.915496650148826, 61, 0.8]\n",
      "[12.915496650148826, 71, 0.8038095238095239]\n",
      "[12.915496650148826, 81, 0.8019047619047619]\n",
      "[12.915496650148826, 91, 0.8]\n",
      "[35.93813663804626, 1, 0.819047619047619]\n",
      "[35.93813663804626, 11, 0.7885714285714286]\n",
      "[35.93813663804626, 21, 0.7904761904761904]\n",
      "[35.93813663804626, 31, 0.7752380952380953]\n",
      "[35.93813663804626, 41, 0.7657142857142857]\n",
      "[35.93813663804626, 51, 0.7638095238095238]\n",
      "[35.93813663804626, 61, 0.76]\n",
      "[35.93813663804626, 71, 0.758095238095238]\n",
      "[35.93813663804626, 81, 0.7561904761904762]\n",
      "[35.93813663804626, 91, 0.7561904761904762]\n",
      "[100.0, 1, 0.8038095238095239]\n",
      "[100.0, 11, 0.758095238095238]\n",
      "[100.0, 21, 0.7561904761904762]\n",
      "[100.0, 31, 0.7504761904761905]\n",
      "[100.0, 41, 0.7504761904761905]\n",
      "[100.0, 51, 0.7447619047619047]\n",
      "[100.0, 61, 0.7466666666666667]\n",
      "[100.0, 71, 0.7447619047619047]\n",
      "[100.0, 81, 0.7428571428571429]\n",
      "[100.0, 91, 0.7409523809523809]\n"
     ]
    }
   ],
   "source": [
    "N = 10\n",
    "gamma_vals = 10**np.linspace(-2, 2, N)\n",
    "C_vals = np.arange(1,100, N)\n",
    "scores = []\n",
    "for gamma in gamma_vals:\n",
    "    for C in C_vals:\n",
    "        classifier = SVC(kernel='rbf', gamma=gamma, C=C)\n",
    "        classifier.fit(X_train, y_train)\n",
    "        score_judge = classifier.score(X_test, y_test)  \n",
    "        new_info = [gamma, C, score_judge]\n",
    "        scores.append(new_info)\n",
    "        print(new_info)\n",
    "scores = np.array(scores)"
   ]
  },
  {
   "cell_type": "code",
   "execution_count": null,
   "id": "4b959c1c",
   "metadata": {},
   "outputs": [],
   "source": []
  },
  {
   "cell_type": "code",
   "execution_count": null,
   "id": "d355300d",
   "metadata": {},
   "outputs": [],
   "source": []
  },
  {
   "cell_type": "markdown",
   "id": "370ed004",
   "metadata": {},
   "source": [
    "## 16\n",
    "\n",
    "Finally, let’s see how different players’ strike zones change. Aaron Judge is the tallest player in the MLB. Jose Altuve is the shortest player. Instead of using the aaron_judge variable, use jose_altuve.\n",
    "\n",
    "To make this easier, you might want to consider putting all of your code inside a function and using the dataset as a parameter.\n",
    "\n",
    "We’ve also imported david_ortiz.\n",
    "\n",
    "Note that the range of the axes will change for these players. To really compare the strike zones, you may want to force the axes to be the same.\n",
    "\n",
    "Try putting ax.set_ylim(-2, 6) and ax.set_xlim(-3, 3) right before calling plt.show()"
   ]
  },
  {
   "cell_type": "code",
   "execution_count": null,
   "id": "6c8f5206",
   "metadata": {},
   "outputs": [],
   "source": []
  },
  {
   "cell_type": "markdown",
   "id": "9e3c5e42",
   "metadata": {},
   "source": [
    "## 17\n",
    "\n",
    "See if you can make an SVM that is more accurate by using more features. Perhaps the location of the ball isn’t the only important feature!\n",
    "\n",
    "You can see the columns available to you by printing aaron_judge.columns.\n",
    "\n",
    "For example, try adding the strikes column to your SVM — the number of strikes the batter already has might have an impact on whether the next pitch is a strike or a ball.\n",
    "\n",
    "Note that our draw_boundary function won’t work if you have more than two features. If you add more features, make sure to comment that out!\n",
    "\n",
    "Try to make the best SVM possible and share your results with us!"
   ]
  },
  {
   "cell_type": "code",
   "execution_count": null,
   "id": "163a6ecb",
   "metadata": {},
   "outputs": [],
   "source": []
  }
 ],
 "metadata": {
  "kernelspec": {
   "display_name": "Python 3",
   "language": "python",
   "name": "python3"
  },
  "language_info": {
   "codemirror_mode": {
    "name": "ipython",
    "version": 3
   },
   "file_extension": ".py",
   "mimetype": "text/x-python",
   "name": "python",
   "nbconvert_exporter": "python",
   "pygments_lexer": "ipython3",
   "version": "3.8.8"
  }
 },
 "nbformat": 4,
 "nbformat_minor": 5
}
